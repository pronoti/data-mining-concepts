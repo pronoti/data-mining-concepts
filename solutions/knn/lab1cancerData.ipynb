{
 "cells": [
  {
   "cell_type": "code",
   "execution_count": 1,
   "metadata": {},
   "outputs": [
    {
     "name": "stdout",
     "output_type": "stream",
     "text": [
      "Index(['id', 'diagnosis', 'radius_mean', 'texture_mean', 'perimeter_mean',\n",
      "       'area_mean', 'smoothness_mean', 'compactness_mean', 'concavity_mean',\n",
      "       'points_mean', 'symmetry_mean', 'dimension_mean', 'radius_se',\n",
      "       'texture_se', 'perimeter_se', 'area_se', 'smoothness_se',\n",
      "       'compactness_se', 'concavity_se', 'points_se', 'symmetry_se',\n",
      "       'dimension_se', 'radius_worst', 'texture_worst', 'perimeter_worst',\n",
      "       'area_worst', 'smoothness_worst', 'compactness_worst',\n",
      "       'concavity_worst', 'points_worst', 'symmetry_worst', 'dimension_worst'],\n",
      "      dtype='object')\n",
      "B    357\n",
      "M    212\n",
      "Name: diagnosis, dtype: int64\n"
     ]
    }
   ],
   "source": [
    "import numpy as np\n",
    "import pandas as pd\n",
    "from sklearn.neighbors import KNeighborsClassifier\n",
    "from sklearn.model_selection import train_test_split\n",
    "from sklearn.metrics import confusion_matrix\n",
    "\n",
    "df = pd.read_csv('data/wbcd.csv')\n",
    "# print(df.head())\n",
    "\n",
    "print(df.columns)\n",
    "print(df.diagnosis.value_counts())"
   ]
  },
  {
   "cell_type": "code",
   "execution_count": 2,
   "metadata": {},
   "outputs": [
    {
     "name": "stdout",
     "output_type": "stream",
     "text": [
      "Mean of area_mean 654.8891036906854\n",
      "Mean of radius_mean 14.127291739894558\n",
      "Mean of smoothness_mean 0.09636028119507911\n"
     ]
    }
   ],
   "source": [
    "# print(df.head())\n",
    "# print(df.area_mean)\n",
    "# print(df.area_mean.describe())\n",
    "print('Mean of area_mean', df.area_mean.mean())\n",
    "print('Mean of radius_mean', df.radius_mean.mean())\n",
    "print('Mean of smoothness_mean', df.smoothness_mean.mean())"
   ]
  },
  {
   "cell_type": "code",
   "execution_count": 5,
   "metadata": {},
   "outputs": [
    {
     "name": "stdout",
     "output_type": "stream",
     "text": [
      "(569, 30)\n"
     ]
    }
   ],
   "source": [
    "################################################\n",
    "\n",
    "X = df.drop(['id', 'diagnosis'], axis='columns')\n",
    "y = df['diagnosis']\n",
    "\n",
    "print(X.shape)\n",
    "# print(y)"
   ]
  },
  {
   "cell_type": "code",
   "execution_count": 6,
   "metadata": {},
   "outputs": [
    {
     "name": "stdout",
     "output_type": "stream",
     "text": [
      "Test Accuracy 0.9385964912280702\n"
     ]
    }
   ],
   "source": [
    "X_train, X_test, y_train, y_test = train_test_split(X, y, test_size=0.2, random_state=1, stratify=y)\n",
    "\n",
    "clf = KNeighborsClassifier()\n",
    "clf.fit(X_train, y_train)\n",
    "\n",
    "print('Test Accuracy', clf.score(X_test, y_test))"
   ]
  },
  {
   "cell_type": "code",
   "execution_count": 7,
   "metadata": {},
   "outputs": [
    {
     "name": "stdout",
     "output_type": "stream",
     "text": [
      "[[71  1]\n",
      " [ 6 36]]\n",
      "71 1 6 36\n",
      "0.9385964912280702\n"
     ]
    }
   ],
   "source": [
    "yPredict = clf.predict(X_test)\n",
    "\n",
    "cm = confusion_matrix(y_test, yPredict, labels=['B','M'])\n",
    "tn, fp, fn, tp = cm.ravel()\n",
    "print(cm)\n",
    "print(tn, fp, fn, tp)\n",
    "\n",
    "print( (tn + tp) / (tn + tp + fn + fp) )"
   ]
  },
  {
   "cell_type": "code",
   "execution_count": null,
   "metadata": {},
   "outputs": [],
   "source": []
  },
  {
   "cell_type": "code",
   "execution_count": null,
   "metadata": {},
   "outputs": [],
   "source": []
  },
  {
   "cell_type": "code",
   "execution_count": null,
   "metadata": {},
   "outputs": [],
   "source": []
  }
 ],
 "metadata": {
  "kernelspec": {
   "display_name": "Python 3",
   "language": "python",
   "name": "python3"
  },
  "language_info": {
   "codemirror_mode": {
    "name": "ipython",
    "version": 3
   },
   "file_extension": ".py",
   "mimetype": "text/x-python",
   "name": "python",
   "nbconvert_exporter": "python",
   "pygments_lexer": "ipython3",
   "version": "3.9.6"
  }
 },
 "nbformat": 4,
 "nbformat_minor": 4
}
