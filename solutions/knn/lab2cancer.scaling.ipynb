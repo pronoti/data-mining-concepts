{
 "cells": [
  {
   "cell_type": "code",
   "execution_count": 17,
   "metadata": {},
   "outputs": [],
   "source": [
    "import numpy as np\n",
    "# from sklearn import neighbors\n",
    "from sklearn.neighbors import KNeighborsClassifier\n",
    "from sklearn.model_selection import train_test_split\n",
    "import pandas as pd\n",
    "from sklearn.model_selection import cross_val_score"
   ]
  },
  {
   "cell_type": "code",
   "execution_count": 18,
   "metadata": {},
   "outputs": [
    {
     "name": "stdout",
     "output_type": "stream",
     "text": [
      "Values of Diagnosis\n",
      "B    357\n",
      "M    212\n",
      "Name: diagnosis, dtype: int64\n",
      "Mean of area_mean 654.8891036906854\n",
      "Mean of radius_mean 14.127291739894558\n",
      "Mean of smoothness_mean 0.09636028119507911\n"
     ]
    }
   ],
   "source": [
    "df = pd.read_csv('data/wbcd.csv')\n",
    "\n",
    "print('Values of Diagnosis')\n",
    "print(df.diagnosis.value_counts())\n",
    "\n",
    "# print(df.head())\n",
    "# print(df.area_mean.describe())\n",
    "print('Mean of area_mean', df.area_mean.mean())\n",
    "print('Mean of radius_mean', df.radius_mean.mean())\n",
    "print('Mean of smoothness_mean', df.smoothness_mean.mean())"
   ]
  },
  {
   "cell_type": "code",
   "execution_count": 23,
   "metadata": {},
   "outputs": [
    {
     "name": "stdout",
     "output_type": "stream",
     "text": [
      "Validation accuracy with unscaled data 0.923076923076923\n"
     ]
    }
   ],
   "source": [
    "# Evaluate unscaled data\n",
    "X = df.drop(['id', 'diagnosis'], axis='columns')\n",
    "y = df['diagnosis']\n",
    "\n",
    "X_train, X_test, y_train, y_test = train_test_split(X, y, random_state=2, \n",
    "                                                    test_size=0.2, stratify=y)\n",
    "\n",
    "clf = KNeighborsClassifier()\n",
    "scores = cross_val_score(clf, X_train, y_train, cv=5)\n",
    "\n",
    "print('Validation accuracy with unscaled data', scores.mean())"
   ]
  },
  {
   "cell_type": "code",
   "execution_count": 20,
   "metadata": {},
   "outputs": [
    {
     "name": "stdout",
     "output_type": "stream",
     "text": [
      "Validation accuracy with MinMaxScaler 0.9670329670329669\n"
     ]
    }
   ],
   "source": [
    "# Evaluate min max scaler\n",
    "from sklearn.preprocessing import MinMaxScaler\n",
    "scaler = MinMaxScaler()\n",
    "\n",
    "scaler.fit(X_train)\n",
    "X_train_scaled = scaler.transform(X_train)\n",
    "\n",
    "# X_train_scaled = scaler.fit_transform(X_train)\n",
    "\n",
    "clf = KNeighborsClassifier()\n",
    "\n",
    "scores = cross_val_score(clf, X_train_scaled, y_train, cv=5)\n",
    "print('Validation accuracy with MinMaxScaler', scores.mean())"
   ]
  },
  {
   "cell_type": "code",
   "execution_count": 21,
   "metadata": {},
   "outputs": [
    {
     "name": "stdout",
     "output_type": "stream",
     "text": [
      "Validation accuracy with StandardScaler data 0.9626373626373625\n"
     ]
    }
   ],
   "source": [
    "# Evaluate standard scaler\n",
    "from sklearn.preprocessing import StandardScaler\n",
    "scaler2 = StandardScaler()\n",
    "\n",
    "scaler2.fit(X_train)\n",
    "X_train_scaled = scaler2.transform(X_train)\n",
    "\n",
    "clf = KNeighborsClassifier()\n",
    "\n",
    "scores = cross_val_score(clf, X_train_scaled, y_train, cv=5)\n",
    "print('Validation accuracy with StandardScaler data', scores.mean())"
   ]
  },
  {
   "cell_type": "code",
   "execution_count": 22,
   "metadata": {},
   "outputs": [
    {
     "name": "stdout",
     "output_type": "stream",
     "text": [
      "Test Accuracy 0.9736842105263158\n"
     ]
    }
   ],
   "source": [
    "# Finally estimate the test accuracy\n",
    "scaler = MinMaxScaler()\n",
    "\n",
    "scaler.fit(X_train)\n",
    "X_train_scaled = scaler.transform(X_train)\n",
    "X_test_scaled = scaler.transform(X_test)\n",
    "\n",
    "clf = KNeighborsClassifier()\n",
    "clf.fit(X_train_scaled, y_train)\n",
    "print('Test Accuracy', clf.score(X_test_scaled, y_test))"
   ]
  },
  {
   "cell_type": "code",
   "execution_count": null,
   "metadata": {},
   "outputs": [],
   "source": []
  }
 ],
 "metadata": {
  "kernelspec": {
   "display_name": "Python 3",
   "language": "python",
   "name": "python3"
  },
  "language_info": {
   "codemirror_mode": {
    "name": "ipython",
    "version": 3
   },
   "file_extension": ".py",
   "mimetype": "text/x-python",
   "name": "python",
   "nbconvert_exporter": "python",
   "pygments_lexer": "ipython3",
   "version": "3.9.6"
  }
 },
 "nbformat": 4,
 "nbformat_minor": 4
}
