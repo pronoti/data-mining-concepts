{
 "cells": [
  {
   "cell_type": "code",
   "execution_count": 1,
   "metadata": {},
   "outputs": [],
   "source": [
    "import numpy as np\n",
    "import pandas as pd\n",
    "from sklearn.neighbors import KNeighborsClassifier\n",
    "from sklearn.model_selection import train_test_split\n",
    "import matplotlib.pyplot as plt \n",
    "from sklearn.metrics import confusion_matrix\n",
    "from sklearn.metrics import accuracy_score\n",
    "from sklearn.model_selection import cross_val_score\n",
    "from sklearn.preprocessing import MinMaxScaler"
   ]
  },
  {
   "cell_type": "code",
   "execution_count": 2,
   "metadata": {},
   "outputs": [
    {
     "name": "stdout",
     "output_type": "stream",
     "text": [
      "Index(['id', 'diagnosis', 'radius_mean', 'texture_mean', 'perimeter_mean',\n",
      "       'area_mean', 'smoothness_mean', 'compactness_mean', 'concavity_mean',\n",
      "       'points_mean', 'symmetry_mean', 'dimension_mean', 'radius_se',\n",
      "       'texture_se', 'perimeter_se', 'area_se', 'smoothness_se',\n",
      "       'compactness_se', 'concavity_se', 'points_se', 'symmetry_se',\n",
      "       'dimension_se', 'radius_worst', 'texture_worst', 'perimeter_worst',\n",
      "       'area_worst', 'smoothness_worst', 'compactness_worst',\n",
      "       'concavity_worst', 'points_worst', 'symmetry_worst', 'dimension_worst'],\n",
      "      dtype='object')\n",
      "B    357\n",
      "M    212\n",
      "Name: diagnosis, dtype: int64\n",
      "(455, 30)\n"
     ]
    }
   ],
   "source": [
    "df = pd.read_csv('data/wbcd.csv')\n",
    "\n",
    "print(df.columns)\n",
    "print(df.diagnosis.value_counts())\n",
    "\n",
    "X = df.drop(['id', 'diagnosis'], axis='columns')\n",
    "y = df.diagnosis\n",
    "\n",
    "X_train, X_test, y_train, y_test = train_test_split(X, y, test_size=0.2, random_state=5)\n",
    "print(X_train.shape)"
   ]
  },
  {
   "cell_type": "code",
   "execution_count": 4,
   "metadata": {},
   "outputs": [
    {
     "name": "stdout",
     "output_type": "stream",
     "text": [
      "n:  1 val acc 0.9384615384615385\n",
      "n:  2 val acc 0.956043956043956\n",
      "n:  3 val acc 0.956043956043956\n",
      "n:  4 val acc 0.9516483516483516\n",
      "n:  5 val acc 0.956043956043956\n",
      "n:  6 val acc 0.9604395604395606\n",
      "n:  7 val acc 0.9604395604395604\n",
      "n:  8 val acc 0.9604395604395604\n",
      "n:  9 val acc 0.9604395604395604\n",
      "n:  10 val acc 0.9582417582417582\n",
      "n:  11 val acc 0.9626373626373625\n",
      "n:  12 val acc 0.9582417582417582\n",
      "n:  13 val acc 0.9604395604395604\n",
      "n:  14 val acc 0.9582417582417582\n",
      "n:  15 val acc 0.9604395604395606\n",
      "n:  16 val acc 0.9582417582417584\n",
      "n:  17 val acc 0.9582417582417582\n",
      "n:  18 val acc 0.956043956043956\n",
      "n:  19 val acc 0.956043956043956\n",
      "n:  20 val acc 0.9538461538461538\n",
      "n:  21 val acc 0.956043956043956\n",
      "n:  22 val acc 0.9538461538461538\n",
      "n:  23 val acc 0.9538461538461538\n",
      "n:  24 val acc 0.9516483516483516\n",
      "n:  25 val acc 0.956043956043956\n",
      "n:  26 val acc 0.956043956043956\n",
      "n:  27 val acc 0.9538461538461538\n",
      "n:  28 val acc 0.9538461538461538\n",
      "n:  29 val acc 0.956043956043956\n"
     ]
    }
   ],
   "source": [
    "scaler = MinMaxScaler()\n",
    "scaler.fit(X_train)\n",
    "X_train = scaler.transform(X_train)\n",
    "X_test = scaler.transform(X_test)\n",
    "\n",
    "for k in range(1,30) :\n",
    "    clf = KNeighborsClassifier(n_neighbors=k)    \n",
    "    scores = cross_val_score(clf, X_train, y_train, cv=5)\n",
    "    print(\"n: \", k , \"val acc\", scores.mean())\n",
    "\n",
    " "
   ]
  },
  {
   "cell_type": "code",
   "execution_count": 6,
   "metadata": {},
   "outputs": [
    {
     "name": "stdout",
     "output_type": "stream",
     "text": [
      "Test Accuracy 0.9649122807017544\n"
     ]
    }
   ],
   "source": [
    "clf = KNeighborsClassifier(n_neighbors=11)    \n",
    "clf.fit(X_train, y_train)\n",
    "\n",
    "# yPredict = clf.predict(X_test)\n",
    "# print(accuracy_score(y_test, yPredict))\n",
    "print('Test Accuracy', clf.score(X_test, y_test))"
   ]
  },
  {
   "cell_type": "code",
   "execution_count": 7,
   "metadata": {},
   "outputs": [
    {
     "name": "stdout",
     "output_type": "stream",
     "text": [
      "[[71  1]\n",
      " [ 3 39]]\n",
      "71 1 3 39\n",
      "0.9649122807017544\n"
     ]
    }
   ],
   "source": [
    "cm = confusion_matrix(y_test, yPredict, labels=['B','M'])\n",
    "tn, fp, fn, tp = cm.ravel()\n",
    "print(cm)\n",
    "print(tn, fp, fn, tp)\n",
    "\n",
    "print( (tn + tp) / (tn + tp + fn + fp) )"
   ]
  },
  {
   "cell_type": "code",
   "execution_count": null,
   "metadata": {},
   "outputs": [],
   "source": []
  },
  {
   "cell_type": "code",
   "execution_count": null,
   "metadata": {},
   "outputs": [],
   "source": []
  }
 ],
 "metadata": {
  "kernelspec": {
   "display_name": "Python 3",
   "language": "python",
   "name": "python3"
  },
  "language_info": {
   "codemirror_mode": {
    "name": "ipython",
    "version": 3
   },
   "file_extension": ".py",
   "mimetype": "text/x-python",
   "name": "python",
   "nbconvert_exporter": "python",
   "pygments_lexer": "ipython3",
   "version": "3.9.6"
  }
 },
 "nbformat": 4,
 "nbformat_minor": 4
}
