{
 "cells": [
  {
   "cell_type": "markdown",
   "metadata": {},
   "source": [
    "### Objectives: Calculate GINI values for single nodes as well as for a split."
   ]
  },
  {
   "cell_type": "code",
   "execution_count": 1,
   "metadata": {},
   "outputs": [
    {
     "name": "stdout",
     "output_type": "stream",
     "text": [
      "9/7 split, gini : 0.4921875\n"
     ]
    }
   ],
   "source": [
    "# Single Node 9/7\n",
    "print(\"9/7 split, gini :\", 1 - (9/16)**2 - (7/16)**2)"
   ]
  },
  {
   "cell_type": "code",
   "execution_count": 2,
   "metadata": {},
   "outputs": [
    {
     "name": "stdout",
     "output_type": "stream",
     "text": [
      "p1:  0.2777777777777777\n",
      "p2:  0.4444444444444445\n",
      "gini for split:  0.31111111111111106\n"
     ]
    }
   ],
   "source": [
    "# GINI value for a two way split.\n",
    "# Nodes 10/2 and 2/1\n",
    "p1 = 1 - (10/12)**2 - (2/12)**2\n",
    "print(\"p1: \", p1)\n",
    "p2 = 1 - (2/3)**2 - (1/3)**2\n",
    "print(\"p2: \", p2)\n",
    "# wieghted sum of gini values\n",
    "gini = (12/15)*p1 + (3/15)*p2\n",
    "print(\"gini for split: \", gini)"
   ]
  },
  {
   "cell_type": "code",
   "execution_count": 1,
   "metadata": {},
   "outputs": [
    {
     "name": "stdout",
     "output_type": "stream",
     "text": [
      "p1:  0.31999999999999984\n",
      "p2:  0.4444444444444445\n",
      "p3:  0.5\n",
      "gini for split:  0.3933333333333332\n"
     ]
    }
   ],
   "source": [
    " # 1 / 4 split, 2/1 split and 1/1 split\n",
    "    \n",
    "p1 = 1 - (1/5)**2 - (4/5)**2\n",
    "print(\"p1: \", p1)\n",
    "p2 = 1 - (2/3)**2 - (1/3)**2\n",
    "print(\"p2: \", p2)\n",
    "p3 = 1 - (1/2)**2 - (1/2)**2\n",
    "print(\"p3: \", p3)\n",
    "\n",
    "gini = (5/10)*p1 + (3/10)*p2 + (2/10)*p3\n",
    "print(\"gini for split: \", gini)"
   ]
  },
  {
   "cell_type": "code",
   "execution_count": null,
   "metadata": {},
   "outputs": [],
   "source": []
  }
 ],
 "metadata": {
  "kernelspec": {
   "display_name": "Python 3 (ipykernel)",
   "language": "python",
   "name": "python3"
  },
  "language_info": {
   "codemirror_mode": {
    "name": "ipython",
    "version": 3
   },
   "file_extension": ".py",
   "mimetype": "text/x-python",
   "name": "python",
   "nbconvert_exporter": "python",
   "pygments_lexer": "ipython3",
   "version": "3.8.18"
  }
 },
 "nbformat": 4,
 "nbformat_minor": 4
}
