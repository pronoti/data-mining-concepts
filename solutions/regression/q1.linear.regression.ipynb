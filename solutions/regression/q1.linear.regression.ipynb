{
 "cells": [
  {
   "cell_type": "markdown",
   "id": "07044964",
   "metadata": {},
   "source": [
    "# Linear Regression"
   ]
  },
  {
   "cell_type": "markdown",
   "id": "a33369aa",
   "metadata": {},
   "source": [
    "## Q1.  \n",
    "\n",
    "+ Simple Linear Regresssion for hard coded x and y values. \n",
    "+ Draw scatter plot and line of best fit. \n",
    "+ Find R^2"
   ]
  },
  {
   "cell_type": "code",
   "execution_count": 2,
   "id": "cc82b6ea",
   "metadata": {},
   "outputs": [
    {
     "name": "stdout",
     "output_type": "stream",
     "text": [
      "x.shape  (6, 1)\n"
     ]
    }
   ],
   "source": [
    "import numpy as np\n",
    "from sklearn.linear_model import LinearRegression\n",
    "import matplotlib.pyplot as plt\n",
    "\n",
    "# Convert x to a 2D array. \n",
    "x = np.array([1, 2, 3, 4, 5, 6]).reshape(-1, 1)\n",
    "\n",
    "# same as:\n",
    "# x = np.array([1, 2, 3, 4, 5, 6]).reshape(6, 1)\n",
    "print(\"x.shape \", x.shape)\n",
    "#  print(x)"
   ]
  },
  {
   "cell_type": "code",
   "execution_count": 3,
   "id": "187befd0",
   "metadata": {},
   "outputs": [
    {
     "name": "stdout",
     "output_type": "stream",
     "text": [
      "y.shape  (6,)\n",
      "[ 6  1  9  5 17 12]\n"
     ]
    }
   ],
   "source": [
    "y = np.array([6,1,9,5,17,12])\n",
    "print(\"y.shape \", y.shape)\n",
    "print(y)"
   ]
  },
  {
   "cell_type": "markdown",
   "id": "620837c7",
   "metadata": {},
   "source": [
    "### Explore the data"
   ]
  },
  {
   "cell_type": "code",
   "execution_count": 4,
   "id": "c66448f4",
   "metadata": {},
   "outputs": [
    {
     "data": {
      "image/png": "[encoded data removed]",
      "text/plain": [
       "<Figure size 432x288 with 1 Axes>"
      ]
     },
     "metadata": {
      "needs_background": "light"
     },
     "output_type": "display_data"
    }
   ],
   "source": [
    "# Draw scatter plot.\n",
    "\n",
    "plt.scatter(x, y,  color='black')\n",
    "plt.xlabel('x')\n",
    "plt.ylabel('y')\n",
    "plt.title('Values of x and y')\n",
    "plt.show()"
   ]
  },
  {
   "cell_type": "markdown",
   "id": "3bdd19ae",
   "metadata": {},
   "source": [
    "**Conclusion: Some linear dependency between x and y.** "
   ]
  },
  {
   "cell_type": "markdown",
   "id": "d9fefc62",
   "metadata": {},
   "source": [
    "### Build a model"
   ]
  },
  {
   "cell_type": "code",
   "execution_count": 5,
   "id": "2a861431",
   "metadata": {},
   "outputs": [
    {
     "name": "stdout",
     "output_type": "stream",
     "text": [
      "intercept: 0.9333333333333336\n",
      "slope: [2.11428571]\n",
      "R squared:  0.49097429766885825\n"
     ]
    }
   ],
   "source": [
    "model = LinearRegression()\n",
    "model.fit(x, y)\n",
    "\n",
    "print('intercept:', model.intercept_)\n",
    "print('slope:', model.coef_)\n",
    "print(\"R squared: \", model.score(x,y))"
   ]
  },
  {
   "cell_type": "markdown",
   "id": "1429852e",
   "metadata": {},
   "source": [
    "**Conclusion: Poor model. Only 49% of the variation in y is explained by x.**"
   ]
  },
  {
   "cell_type": "markdown",
   "id": "2c01bb78",
   "metadata": {},
   "source": [
    "### Make predictions"
   ]
  },
  {
   "cell_type": "code",
   "execution_count": 6,
   "id": "9c07b864",
   "metadata": {},
   "outputs": [
    {
     "name": "stdout",
     "output_type": "stream",
     "text": [
      "predicted response:\n",
      "[ 3.04761905  5.16190476  7.27619048  9.39047619 11.5047619  13.61904762]\n"
     ]
    }
   ],
   "source": [
    "yhat = model.predict(x)\n",
    "print('predicted response:', yhat, sep='\\n')"
   ]
  },
  {
   "cell_type": "markdown",
   "id": "28802a9c",
   "metadata": {},
   "source": [
    "#### Plot Predictions"
   ]
  },
  {
   "cell_type": "code",
   "execution_count": 7,
   "id": "fb6e24b8",
   "metadata": {},
   "outputs": [
    {
     "data": {
      "image/png": "[encoded data removed]",
      "text/plain": [
       "<Figure size 432x288 with 1 Axes>"
      ]
     },
     "metadata": {
      "needs_background": "light"
     },
     "output_type": "display_data"
    }
   ],
   "source": [
    "# plot predictions\n",
    "\n",
    "plt.scatter(x, y,  color='black', label=\"actual\")\n",
    "plt.scatter(x, yhat, color='blue', label=\"predicted\")\n",
    "plt.xlabel('x')\n",
    "plt.ylabel('y')\n",
    "plt.legend(loc=\"upper left\")\n",
    "plt.title('Predicted and Actual Values of y')\n",
    "\n",
    "# plt.savefig('plots/p1lineBestFit.png')\n",
    "plt.show()"
   ]
  },
  {
   "cell_type": "markdown",
   "id": "3ee53aa7",
   "metadata": {},
   "source": [
    "**Note: that predicted values are in a straight line**"
   ]
  },
  {
   "cell_type": "markdown",
   "id": "344860a1",
   "metadata": {},
   "source": [
    "#### Line of Best Fit"
   ]
  },
  {
   "cell_type": "code",
   "execution_count": 8,
   "id": "77091b87",
   "metadata": {},
   "outputs": [
    {
     "data": {
      "image/png": "[encoded data removed]",
      "text/plain": [
       "<Figure size 432x288 with 1 Axes>"
      ]
     },
     "metadata": {
      "needs_background": "light"
     },
     "output_type": "display_data"
    }
   ],
   "source": [
    "plt.scatter(x, y,  color='black')\n",
    "\n",
    "plt.plot(x, yhat, color='blue', linewidth=3)\n",
    "plt.xlabel('x')\n",
    "plt.ylabel('y')\n",
    "plt.title('Line of Best Fit')\n",
    "\n",
    "# plt.savefig('plots/p1lineBestFit.png')\n",
    "plt.show()"
   ]
  },
  {
   "cell_type": "markdown",
   "id": "e472250c",
   "metadata": {},
   "source": [
    "**Note Line of best fit is drawn using the y_hat values (predicted values of y)**"
   ]
  }
 ],
 "metadata": {
  "kernelspec": {
   "display_name": "Python 3 (ipykernel)",
   "language": "python",
   "name": "python3"
  },
  "language_info": {
   "codemirror_mode": {
    "name": "ipython",
    "version": 3
   },
   "file_extension": ".py",
   "mimetype": "text/x-python",
   "name": "python",
   "nbconvert_exporter": "python",
   "pygments_lexer": "ipython3",
   "version": "3.8.11"
  }
 },
 "nbformat": 4,
 "nbformat_minor": 5
}
