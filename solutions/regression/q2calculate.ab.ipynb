{
 "cells": [
  {
   "cell_type": "markdown",
   "id": "a6626f44",
   "metadata": {},
   "source": [
    "### Q2\n",
    "\n",
    "Objective: Calculate the coefficients for simple linear regression by hand (For illustration)"
   ]
  },
  {
   "cell_type": "code",
   "execution_count": 1,
   "id": "01503cf9",
   "metadata": {},
   "outputs": [
    {
     "name": "stdout",
     "output_type": "stream",
     "text": [
      "6\n"
     ]
    }
   ],
   "source": [
    "import numpy as np\n",
    "\n",
    "# y = a * x + b \n",
    "# np.sum is slightly faster for arrays\n",
    "\n",
    "x = np.array([1, 2, 3, 4, 5, 6])\n",
    "y = np.array([6,1,9,5,17,12])\n",
    "n = len(x)\n",
    "print(n)"
   ]
  },
  {
   "cell_type": "code",
   "execution_count": 2,
   "id": "ec432543",
   "metadata": {},
   "outputs": [
    {
     "name": "stdout",
     "output_type": "stream",
     "text": [
      "222\n"
     ]
    }
   ],
   "source": [
    "numerator = n * sum(x*y) - sum(x)*sum(y)\n",
    "print(numerator)"
   ]
  },
  {
   "cell_type": "code",
   "execution_count": 3,
   "id": "8fd4a7c3",
   "metadata": {},
   "outputs": [
    {
     "name": "stdout",
     "output_type": "stream",
     "text": [
      "105\n"
     ]
    }
   ],
   "source": [
    "denominator = n * sum(x*x) - sum(x)**2\n",
    "print(denominator)"
   ]
  },
  {
   "cell_type": "code",
   "execution_count": 4,
   "id": "ba13c9e5",
   "metadata": {},
   "outputs": [
    {
     "name": "stdout",
     "output_type": "stream",
     "text": [
      "slope\n",
      "2.1142857142857143\n"
     ]
    }
   ],
   "source": [
    "a = numerator / denominator\n",
    "print(\"slope\")\n",
    "print(a)"
   ]
  },
  {
   "cell_type": "code",
   "execution_count": 5,
   "id": "3224847d",
   "metadata": {},
   "outputs": [
    {
     "name": "stdout",
     "output_type": "stream",
     "text": [
      "intercept\n",
      "0.9333333333333336\n"
     ]
    }
   ],
   "source": [
    "b = (sum(y) - a * sum(x)) / n\n",
    "print(\"intercept\")\n",
    "print(b)"
   ]
  },
  {
   "cell_type": "code",
   "execution_count": null,
   "id": "08a10ddc",
   "metadata": {},
   "outputs": [],
   "source": []
  }
 ],
 "metadata": {
  "kernelspec": {
   "display_name": "Python 3 (ipykernel)",
   "language": "python",
   "name": "python3"
  },
  "language_info": {
   "codemirror_mode": {
    "name": "ipython",
    "version": 3
   },
   "file_extension": ".py",
   "mimetype": "text/x-python",
   "name": "python",
   "nbconvert_exporter": "python",
   "pygments_lexer": "ipython3",
   "version": "3.8.11"
  }
 },
 "nbformat": 4,
 "nbformat_minor": 5
}
