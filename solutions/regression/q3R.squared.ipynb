{
 "cells": [
  {
   "cell_type": "markdown",
   "id": "fe83d226",
   "metadata": {},
   "source": [
    "# Q3 \n",
    "\n",
    "+ Get R squared from a linear model\n",
    "+ Get R squared by hand"
   ]
  },
  {
   "cell_type": "code",
   "execution_count": 6,
   "id": "f89e7b70",
   "metadata": {},
   "outputs": [],
   "source": [
    "import numpy as np\n",
    "from sklearn.linear_model import LinearRegression\n",
    "from sklearn.metrics import mean_squared_error\n",
    "import math"
   ]
  },
  {
   "cell_type": "markdown",
   "id": "af9c3d0d",
   "metadata": {},
   "source": [
    "### From the model"
   ]
  },
  {
   "cell_type": "code",
   "execution_count": 7,
   "id": "6b31ff49",
   "metadata": {},
   "outputs": [
    {
     "name": "stdout",
     "output_type": "stream",
     "text": [
      "coefficient of determination (R^2): 0.49097429766885825\n",
      "correlation coefficient (r): 0.7006955813110699\n"
     ]
    }
   ],
   "source": [
    "x = np.array([1, 2, 3, 4, 5, 6]).reshape(-1, 1)\n",
    "y = np.array([6,1,9,5,17,12])\n",
    "\n",
    "# build model\n",
    "model = LinearRegression()\n",
    "model.fit(x,y)\n",
    "\n",
    "print('coefficient of determination (R^2):', model.score(x, y))\n",
    "print('correlation coefficient (r):', math.sqrt(model.score(x, y)))"
   ]
  },
  {
   "cell_type": "markdown",
   "id": "afa2f327",
   "metadata": {},
   "source": [
    "### Calculate by hand"
   ]
  },
  {
   "cell_type": "code",
   "execution_count": 8,
   "id": "692ae694",
   "metadata": {},
   "outputs": [
    {
     "name": "stdout",
     "output_type": "stream",
     "text": [
      "predicted values: [ 3.04761905  5.16190476  7.27619048  9.39047619 11.5047619  13.61904762]\n",
      "errors:  [-2.95238095  4.16190476 -1.72380952  4.39047619 -5.4952381   1.61904762]\n"
     ]
    }
   ],
   "source": [
    "yhat = model.predict(x)\n",
    "print('predicted values:', yhat)\n",
    "\n",
    "errors = yhat - y\n",
    "print(\"errors: \", errors)"
   ]
  },
  {
   "cell_type": "code",
   "execution_count": 9,
   "id": "cc0b620b",
   "metadata": {},
   "outputs": [
    {
     "name": "stdout",
     "output_type": "stream",
     "text": [
      "Calculated R squared 0.49097429766885825\n",
      "From model: 0.49097429766885825\n"
     ]
    }
   ],
   "source": [
    "# R squared\n",
    "\n",
    "SSres = sum(np.square(errors))\n",
    "# print(SSres)\n",
    "\n",
    "SStot = sum(np.square(y-np.mean(y)))\n",
    "# print(SStot)\n",
    "\n",
    "rSquared = 1 - (SSres/SStot)\n",
    "print(\"Calculated R squared\", rSquared)\n",
    "print(\"From model:\", model.score(x,y))"
   ]
  },
  {
   "cell_type": "markdown",
   "id": "7f72a12b",
   "metadata": {},
   "source": [
    "### Calculate RMSE using mean_square_error()"
   ]
  },
  {
   "cell_type": "code",
   "execution_count": 10,
   "id": "998c2de5",
   "metadata": {},
   "outputs": [
    {
     "name": "stdout",
     "output_type": "stream",
     "text": [
      "Calculared RMSE:  3.6766098946529966\n",
      "RMSE using mean_square_error():  3.6766098946529966\n"
     ]
    }
   ],
   "source": [
    "# Calculate RMSE\n",
    "rmse = math.sqrt(np.mean(np.square(errors)))\n",
    "print(\"Calculared RMSE: \", rmse)\n",
    "print(\"RMSE using mean_square_error(): \", mean_squared_error(y, yhat, squared=False))"
   ]
  },
  {
   "cell_type": "code",
   "execution_count": null,
   "id": "5657a441",
   "metadata": {},
   "outputs": [],
   "source": []
  }
 ],
 "metadata": {
  "kernelspec": {
   "display_name": "Python 3 (ipykernel)",
   "language": "python",
   "name": "python3"
  },
  "language_info": {
   "codemirror_mode": {
    "name": "ipython",
    "version": 3
   },
   "file_extension": ".py",
   "mimetype": "text/x-python",
   "name": "python",
   "nbconvert_exporter": "python",
   "pygments_lexer": "ipython3",
   "version": "3.8.11"
  }
 },
 "nbformat": 4,
 "nbformat_minor": 5
}
