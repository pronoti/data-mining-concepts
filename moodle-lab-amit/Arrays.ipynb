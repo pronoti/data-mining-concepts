{
 "cells": [
  {
   "metadata": {},
   "cell_type": "markdown",
   "source": "### Import NumPy",
   "id": "b8b3d8f160f8dab6"
  },
  {
   "metadata": {},
   "cell_type": "code",
   "outputs": [],
   "execution_count": null,
   "source": "import numpy as np",
   "id": "6d64d7b77c45944c"
  },
  {
   "metadata": {},
   "cell_type": "raw",
   "source": "### 1D Array",
   "id": "6451e40868b2174d",
   "outputs": null,
   "execution_count": null
  },
  {
   "metadata": {
    "collapsed": true,
    "ExecuteTime": {
     "end_time": "2025-10-18T22:30:57.969663Z",
     "start_time": "2025-10-18T22:30:57.960659Z"
    }
   },
   "cell_type": "code",
   "source": [
    "x = np.array([12, 3, 6, 14])\n",
    "print(\"x: \", x)\n",
    "print(type(x))\n",
    "print(\"x.ndim: \", x.ndim)\n",
    "print(\"x.shape: \", x.shape)\n",
    "print(x[0])"
   ],
   "id": "230ab6df5c7e22a2",
   "outputs": [
    {
     "name": "stdout",
     "output_type": "stream",
     "text": [
      "x:  [12  3  6 14]\n",
      "<class 'numpy.ndarray'>\n",
      "x.ndim:  1\n",
      "x.shape:  (4,)\n",
      "12\n"
     ]
    }
   ],
   "execution_count": 4
  },
  {
   "metadata": {},
   "cell_type": "markdown",
   "source": "### 2D Array",
   "id": "cd78b90403e67ac"
  },
  {
   "metadata": {
    "ExecuteTime": {
     "end_time": "2025-10-18T22:29:49.216879Z",
     "start_time": "2025-10-18T22:29:49.156967Z"
    }
   },
   "cell_type": "code",
   "source": [
    "x = np.array([  [1, 2, 3, 4],\n",
    "                [5, 6, 7, 8],\n",
    "                [9, 10, 11, 12]\n",
    "            ])\n",
    "print(\"x: \", x)\n",
    "print(type(x))\n",
    "print(\"x.ndim: \", x.ndim)\n",
    "print(\"x.shape: \", x.shape)\n",
    "print(x[0,1])"
   ],
   "id": "263cd29a8e3d07f",
   "outputs": [
    {
     "name": "stdout",
     "output_type": "stream",
     "text": [
      "x:  [[ 1  2  3  4]\n",
      " [ 5  6  7  8]\n",
      " [ 9 10 11 12]]\n",
      "<class 'numpy.ndarray'>\n",
      "x.ndim:  2\n",
      "x.shape:  (3, 4)\n",
      "2\n"
     ]
    }
   ],
   "execution_count": 3
  },
  {
   "metadata": {},
   "cell_type": "markdown",
   "source": "### 3D Array",
   "id": "530335cf5ff99776"
  },
  {
   "metadata": {
    "ExecuteTime": {
     "end_time": "2025-10-18T22:34:08.014266Z",
     "start_time": "2025-10-18T22:34:07.970097Z"
    }
   },
   "cell_type": "code",
   "source": [
    "x = np.array([\n",
    "                [\n",
    "                    [1, 2, 3, 4], [5, 6, 7, 8], [9, 10, 11, 12]\n",
    "                ],\n",
    "                [\n",
    "                    [21, 22, 23, 24], [25, 26, 27, 28], [29, 30, 31, 32]\n",
    "                ]\n",
    "            ])\n",
    "print(\"x: \", x)\n",
    "print(type(x))\n",
    "print(\"x.ndim: \", x.ndim)\n",
    "print(\"x.shape: \", x.shape)"
   ],
   "id": "1d9421c28e836d77",
   "outputs": [
    {
     "name": "stdout",
     "output_type": "stream",
     "text": [
      "x.ndim:  3\n",
      "x.shape:  (2, 3, 4)\n",
      "7\n"
     ]
    }
   ],
   "execution_count": 6
  },
  {
   "metadata": {},
   "cell_type": "markdown",
   "source": "### Array Slice",
   "id": "a9df46e5b5f9fa57"
  },
  {
   "metadata": {
    "ExecuteTime": {
     "end_time": "2025-10-18T22:53:14.022919Z",
     "start_time": "2025-10-18T22:53:14.012611Z"
    }
   },
   "cell_type": "code",
   "source": [
    "arr = np.array([0, 1, 2, 3, 4, 5, 6, 7, 8, 9, 10])\n",
    "\n",
    "print(f\"{arr[3:8]=}\")\n",
    "print(f\"{arr[3:8:2]=}\")\n",
    "print(f\"{arr[3:-1]=}\")\n",
    "print(f\"{arr[3:]=}\")\n",
    "print(f\"{arr[:5]=}\")\n",
    "print(f\"{arr[:5]=}\")\n",
    "\n",
    "new = arr[0:3]\n",
    "print(f\"{len(new)=}\")\n",
    "print(f\"{new=}\")\n",
    "\n",
    "new[0] = 100\n",
    "print(f\"{new[0]=}\")\n",
    "print(f\"{arr[0]=}\")\n",
    "print(f\"{arr=}\")"
   ],
   "id": "3c6b368d31816f04",
   "outputs": [
    {
     "name": "stdout",
     "output_type": "stream",
     "text": [
      "arr[3:8]=array([3, 4, 5, 6, 7])\n",
      "arr[3:8:2]=array([3, 5, 7])\n",
      "arr[3:-1]=array([3, 4, 5, 6, 7, 8, 9])\n",
      "arr[3:]=array([ 3,  4,  5,  6,  7,  8,  9, 10])\n",
      "arr[:5]=array([0, 1, 2, 3, 4])\n",
      "arr[:5]=array([0, 1, 2, 3, 4])\n",
      "len(new)=3\n",
      "new=array([0, 1, 2])\n",
      "new[0]=np.int64(100)\n",
      "arr[0]=np.int64(100)\n",
      "arr=array([100,   1,   2,   3,   4,   5,   6,   7,   8,   9,  10])\n"
     ]
    }
   ],
   "execution_count": 15
  },
  {
   "metadata": {},
   "cell_type": "markdown",
   "source": "### Reshape 1D Array to 2D Array",
   "id": "6ac39a1cfa75e2f3"
  },
  {
   "metadata": {
    "ExecuteTime": {
     "end_time": "2025-10-18T22:45:16.238456Z",
     "start_time": "2025-10-18T22:45:16.129736Z"
    }
   },
   "cell_type": "code",
   "outputs": [
    {
     "name": "stdout",
     "output_type": "stream",
     "text": [
      "[12  3  6 14]\n",
      "[[12  3]\n",
      " [ 6 14]]\n",
      "[12  3  6 14]\n"
     ]
    }
   ],
   "execution_count": 10,
   "source": [
    "x = np.array([12, 3, 6, 14])\n",
    "x2 = np.reshape(x, (2,-1))\n",
    "print(x)\n",
    "print(x2)\n",
    "print(x)\n"
   ],
   "id": "50ba94fec844c02"
  }
 ],
 "metadata": {
  "kernelspec": {
   "display_name": "Python 3",
   "language": "python",
   "name": "python3"
  },
  "language_info": {
   "codemirror_mode": {
    "name": "ipython",
    "version": 2
   },
   "file_extension": ".py",
   "mimetype": "text/x-python",
   "name": "python",
   "nbconvert_exporter": "python",
   "pygments_lexer": "ipython2",
   "version": "2.7.6"
  }
 },
 "nbformat": 4,
 "nbformat_minor": 5
}
