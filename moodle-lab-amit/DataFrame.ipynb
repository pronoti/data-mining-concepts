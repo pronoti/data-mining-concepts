{
 "cells": [
  {
   "metadata": {},
   "cell_type": "markdown",
   "source": "### Import Pandas",
   "id": "961d31cd017ef770"
  },
  {
   "metadata": {
    "collapsed": true,
    "ExecuteTime": {
     "end_time": "2025-10-18T23:01:15.608084Z",
     "start_time": "2025-10-18T23:01:08.914790Z"
    }
   },
   "cell_type": "code",
   "source": "import pandas as pd",
   "id": "fef654921b5ed619",
   "outputs": [],
   "execution_count": 2
  },
  {
   "metadata": {},
   "cell_type": "markdown",
   "source": "### Read the iris dataset from a csv file stored in a folder called data, into a dataframe.",
   "id": "d314985d2f04fec9"
  },
  {
   "metadata": {},
   "cell_type": "code",
   "outputs": [],
   "execution_count": null,
   "source": "df = pd.read_csv(\"data/iris.csv\")",
   "id": "aa85f53300b7a2ff"
  },
  {
   "metadata": {},
   "cell_type": "markdown",
   "source": "### Get the type, head, columns, shape, and index of the dataframe",
   "id": "7fb82f76aba4e9cf"
  },
  {
   "metadata": {
    "ExecuteTime": {
     "end_time": "2025-10-18T23:06:21.183323Z",
     "start_time": "2025-10-18T23:06:21.170437Z"
    }
   },
   "cell_type": "code",
   "source": [
    "print(type(df))\n",
    "print(df.head())\n",
    "print(df.columns)\n",
    "print(df.shape)\n",
    "print(df.index)"
   ],
   "id": "34684dd72893d473",
   "outputs": [
    {
     "name": "stdout",
     "output_type": "stream",
     "text": [
      "<class 'pandas.core.frame.DataFrame'>\n",
      "   sepal_length  sepal_width  petal_length  petal_width species\n",
      "0           5.1          3.5           1.4          0.2  setosa\n",
      "1           4.9          3.0           1.4          0.2  setosa\n",
      "2           4.7          3.2           1.3          0.2  setosa\n",
      "3           4.6          3.1           1.5          0.2  setosa\n",
      "4           5.0          3.6           1.4          0.2  setosa\n",
      "Index(['sepal_length', 'sepal_width', 'petal_length', 'petal_width',\n",
      "       'species'],\n",
      "      dtype='object')\n",
      "(150, 5)\n",
      "RangeIndex(start=0, stop=150, step=1)\n",
      "sepal_length       4.9\n",
      "sepal_width        3.0\n",
      "petal_length       1.4\n",
      "petal_width        0.2\n",
      "species         setosa\n",
      "Name: 1, dtype: object\n",
      "3.0\n"
     ]
    }
   ],
   "execution_count": 11
  },
  {
   "metadata": {},
   "cell_type": "markdown",
   "source": "### Get the value of a row of the df",
   "id": "301c143d1e823cb5"
  },
  {
   "metadata": {},
   "cell_type": "code",
   "outputs": [],
   "execution_count": null,
   "source": "print(df.iloc[1])",
   "id": "fa76801bf28a7acb"
  },
  {
   "metadata": {},
   "cell_type": "markdown",
   "source": "### Get the value of an entry in the df",
   "id": "876225567d24a35b"
  },
  {
   "metadata": {},
   "cell_type": "code",
   "outputs": [],
   "execution_count": null,
   "source": "print(df.iloc[1,1])",
   "id": "27df47edfd8c8a05"
  },
  {
   "metadata": {},
   "cell_type": "markdown",
   "source": "### Take a copy of the dataframe (df2) and set the value of an entry in df2. Print the value of the entry in df and df2",
   "id": "a90e294c3419f7c2"
  },
  {
   "metadata": {
    "ExecuteTime": {
     "end_time": "2025-10-18T23:16:45.660002Z",
     "start_time": "2025-10-18T23:16:45.644861Z"
    }
   },
   "cell_type": "code",
   "source": [
    "df2 = df.copy()\n",
    "\n",
    "df2.iloc[1,1] = 100\n",
    "print(df2.iloc[1,1])\n",
    "print(df.iloc[1,1])"
   ],
   "id": "a22de6ca3546e79e",
   "outputs": [
    {
     "name": "stdout",
     "output_type": "stream",
     "text": [
      "3.0\n",
      "100.0\n"
     ]
    }
   ],
   "execution_count": 14
  },
  {
   "metadata": {
    "ExecuteTime": {
     "end_time": "2025-10-18T23:22:22.307837Z",
     "start_time": "2025-10-18T23:22:22.292377Z"
    }
   },
   "cell_type": "code",
   "source": "print(df.dtypes)",
   "id": "de17e0fbec494e0a",
   "outputs": [
    {
     "name": "stdout",
     "output_type": "stream",
     "text": [
      "sepal_length    float64\n",
      "sepal_width     float64\n",
      "petal_length    float64\n",
      "petal_width     float64\n",
      "species          object\n",
      "dtype: object\n"
     ]
    }
   ],
   "execution_count": 15
  },
  {
   "metadata": {},
   "cell_type": "markdown",
   "source": [
    "### Dataframes - Selecting Columns\n",
    "#### Define dataframes X and y where X contains the feature values in the dataframe and y contains the target values."
   ],
   "id": "d152a599a78b113c"
  },
  {
   "metadata": {
    "ExecuteTime": {
     "end_time": "2025-10-18T23:24:39.909249Z",
     "start_time": "2025-10-18T23:24:39.901755Z"
    }
   },
   "cell_type": "code",
   "source": [
    "X = df[[\"sepal_length\",\"sepal_width\",\"petal_length\",\"petal_width\"]]\n",
    "y = df[\"species\"]\n",
    "print(type(X))\n",
    "print(type(y))\n",
    "print(X.shape)\n",
    "print(y.shape)\n",
    "# print(X.head())\n",
    "# print(y.head())"
   ],
   "id": "4b3936f058c4b70f",
   "outputs": [
    {
     "name": "stdout",
     "output_type": "stream",
     "text": [
      "<class 'pandas.core.frame.DataFrame'>\n",
      "<class 'pandas.core.series.Series'>\n",
      "(150, 4)\n",
      "(150,)\n"
     ]
    }
   ],
   "execution_count": 17
  },
  {
   "metadata": {},
   "cell_type": "markdown",
   "source": "### Convert X and y to ndarrays.",
   "id": "e586136aa6100a26"
  },
  {
   "metadata": {
    "ExecuteTime": {
     "end_time": "2025-10-18T23:27:01.498742Z",
     "start_time": "2025-10-18T23:27:01.491202Z"
    }
   },
   "cell_type": "code",
   "outputs": [
    {
     "name": "stdout",
     "output_type": "stream",
     "text": [
      "<class 'numpy.ndarray'>\n",
      "<class 'numpy.ndarray'>\n"
     ]
    }
   ],
   "execution_count": 23,
   "source": [
    "X = df[[\"sepal_length\",\"sepal_width\",\"petal_length\",\"petal_width\"]].to_numpy()\n",
    "y = df[\"species\"].to_numpy()\n",
    "print(type(X))\n",
    "print(type(y))"
   ],
   "id": "495edec564925c6d"
  },
  {
   "metadata": {},
   "cell_type": "markdown",
   "source": "### Define dataframes X and y where X contains the feature values in the dataframe and y contains the target values. Use df.drop() to define X and and df.species to define y.",
   "id": "338c6d19ae6a01d2"
  },
  {
   "metadata": {
    "ExecuteTime": {
     "end_time": "2025-10-18T23:30:59.508592Z",
     "start_time": "2025-10-18T23:30:59.493493Z"
    }
   },
   "cell_type": "code",
   "source": [
    "print(df.head())\n",
    "X = df.drop(\"species\", axis=\"columns\")\n",
    "y = df.species\n",
    "X.head()"
   ],
   "id": "fbd5a985cc0ae0c",
   "outputs": [
    {
     "name": "stdout",
     "output_type": "stream",
     "text": [
      "   sepal_length  sepal_width  petal_length  petal_width species\n",
      "0           5.1          3.5           1.4          0.2  setosa\n",
      "1           4.9          3.0           1.4          0.2  setosa\n",
      "2           4.7          3.2           1.3          0.2  setosa\n",
      "3           4.6          3.1           1.5          0.2  setosa\n",
      "4           5.0          3.6           1.4          0.2  setosa\n"
     ]
    },
    {
     "data": {
      "text/plain": [
       "   sepal_length  sepal_width  petal_length  petal_width\n",
       "0           5.1          3.5           1.4          0.2\n",
       "1           4.9          3.0           1.4          0.2\n",
       "2           4.7          3.2           1.3          0.2\n",
       "3           4.6          3.1           1.5          0.2\n",
       "4           5.0          3.6           1.4          0.2"
      ],
      "text/html": [
       "<div>\n",
       "<style scoped>\n",
       "    .dataframe tbody tr th:only-of-type {\n",
       "        vertical-align: middle;\n",
       "    }\n",
       "\n",
       "    .dataframe tbody tr th {\n",
       "        vertical-align: top;\n",
       "    }\n",
       "\n",
       "    .dataframe thead th {\n",
       "        text-align: right;\n",
       "    }\n",
       "</style>\n",
       "<table border=\"1\" class=\"dataframe\">\n",
       "  <thead>\n",
       "    <tr style=\"text-align: right;\">\n",
       "      <th></th>\n",
       "      <th>sepal_length</th>\n",
       "      <th>sepal_width</th>\n",
       "      <th>petal_length</th>\n",
       "      <th>petal_width</th>\n",
       "    </tr>\n",
       "  </thead>\n",
       "  <tbody>\n",
       "    <tr>\n",
       "      <th>0</th>\n",
       "      <td>5.1</td>\n",
       "      <td>3.5</td>\n",
       "      <td>1.4</td>\n",
       "      <td>0.2</td>\n",
       "    </tr>\n",
       "    <tr>\n",
       "      <th>1</th>\n",
       "      <td>4.9</td>\n",
       "      <td>3.0</td>\n",
       "      <td>1.4</td>\n",
       "      <td>0.2</td>\n",
       "    </tr>\n",
       "    <tr>\n",
       "      <th>2</th>\n",
       "      <td>4.7</td>\n",
       "      <td>3.2</td>\n",
       "      <td>1.3</td>\n",
       "      <td>0.2</td>\n",
       "    </tr>\n",
       "    <tr>\n",
       "      <th>3</th>\n",
       "      <td>4.6</td>\n",
       "      <td>3.1</td>\n",
       "      <td>1.5</td>\n",
       "      <td>0.2</td>\n",
       "    </tr>\n",
       "    <tr>\n",
       "      <th>4</th>\n",
       "      <td>5.0</td>\n",
       "      <td>3.6</td>\n",
       "      <td>1.4</td>\n",
       "      <td>0.2</td>\n",
       "    </tr>\n",
       "  </tbody>\n",
       "</table>\n",
       "</div>"
      ]
     },
     "execution_count": 27,
     "metadata": {},
     "output_type": "execute_result"
    }
   ],
   "execution_count": 27
  }
 ],
 "metadata": {
  "kernelspec": {
   "display_name": "Python 3",
   "language": "python",
   "name": "python3"
  },
  "language_info": {
   "codemirror_mode": {
    "name": "ipython",
    "version": 2
   },
   "file_extension": ".py",
   "mimetype": "text/x-python",
   "name": "python",
   "nbconvert_exporter": "python",
   "pygments_lexer": "ipython2",
   "version": "2.7.6"
  }
 },
 "nbformat": 4,
 "nbformat_minor": 5
}
