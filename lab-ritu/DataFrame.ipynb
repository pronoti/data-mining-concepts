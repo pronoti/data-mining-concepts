{
 "cells": [
  {
   "metadata": {},
   "cell_type": "markdown",
   "source": "### Import Pandas",
   "id": "db783a3b0a5c182c"
  },
  {
   "metadata": {},
   "cell_type": "markdown",
   "source": "### Get the type, head, columns, shape, and index of the dataframe",
   "id": "2beb0acdd32f3df2"
  },
  {
   "metadata": {
    "collapsed": true,
    "ExecuteTime": {
     "end_time": "2025-10-19T16:02:35.440457Z",
     "start_time": "2025-10-19T16:02:35.288400Z"
    }
   },
   "cell_type": "code",
   "source": [
    "import pandas as pd\n",
    "df = pd.read_csv(\"../data/iris.csv\")\n",
    "print(type(df))\n",
    "print(df.head())\n",
    "print(df.columns)\n",
    "print(df.shape)\n",
    "print(df.index)\n",
    "\n",
    "\n",
    "print(df.iloc[1])\n",
    "print(df.iloc[1,1])\n"
   ],
   "id": "9adb83bb42a5d28d",
   "outputs": [
    {
     "name": "stdout",
     "output_type": "stream",
     "text": [
      "<class 'pandas.core.frame.DataFrame'>\n",
      "   sepal_length  sepal_width  petal_length  petal_width species\n",
      "0           5.1          3.5           1.4          0.2  setosa\n",
      "1           4.9          3.0           1.4          0.2  setosa\n",
      "2           4.7          3.2           1.3          0.2  setosa\n",
      "3           4.6          3.1           1.5          0.2  setosa\n",
      "4           5.0          3.6           1.4          0.2  setosa\n",
      "Index(['sepal_length', 'sepal_width', 'petal_length', 'petal_width',\n",
      "       'species'],\n",
      "      dtype='object')\n",
      "(150, 5)\n",
      "RangeIndex(start=0, stop=150, step=1)\n",
      "sepal_length       4.9\n",
      "sepal_width        3.0\n",
      "petal_length       1.4\n",
      "petal_width        0.2\n",
      "species         setosa\n",
      "Name: 1, dtype: object\n",
      "3.0\n"
     ]
    }
   ],
   "execution_count": 1
  },
  {
   "metadata": {},
   "cell_type": "markdown",
   "source": "### Get the value of a row of the df",
   "id": "99425107384e970f"
  },
  {
   "metadata": {
    "ExecuteTime": {
     "end_time": "2025-10-19T16:02:35.446398Z",
     "start_time": "2025-10-19T16:02:35.444397Z"
    }
   },
   "cell_type": "code",
   "source": [
    "print(df.iloc[2])\n",
    "#Get the value of an entry in the df\n",
    "print(df.iloc[2,2])"
   ],
   "id": "d5f874d937712430",
   "outputs": [
    {
     "name": "stdout",
     "output_type": "stream",
     "text": [
      "sepal_length       4.7\n",
      "sepal_width        3.2\n",
      "petal_length       1.3\n",
      "petal_width        0.2\n",
      "species         setosa\n",
      "Name: 2, dtype: object\n",
      "1.3\n"
     ]
    }
   ],
   "execution_count": 2
  },
  {
   "metadata": {},
   "cell_type": "markdown",
   "source": [
    "### Take a copy of the dataframe (df2) and set the value of an entry in df2. Print the\n",
    "### value of the entry in df and df2."
   ],
   "id": "dfb9a228a4b4310f"
  },
  {
   "metadata": {
    "ExecuteTime": {
     "end_time": "2025-10-19T16:02:35.458477Z",
     "start_time": "2025-10-19T16:02:35.454264Z"
    }
   },
   "cell_type": "code",
   "source": [
    "df2 = df.copy()\n",
    "print(df2.head())\n",
    "df2.iloc[1,1] = 100\n",
    "#print(df2)\n",
    "print(df2.iloc[1,1])\n",
    "#print(df)\n"
   ],
   "id": "aaa73c38d7b14bda",
   "outputs": [
    {
     "name": "stdout",
     "output_type": "stream",
     "text": [
      "   sepal_length  sepal_width  petal_length  petal_width species\n",
      "0           5.1          3.5           1.4          0.2  setosa\n",
      "1           4.9          3.0           1.4          0.2  setosa\n",
      "2           4.7          3.2           1.3          0.2  setosa\n",
      "3           4.6          3.1           1.5          0.2  setosa\n",
      "4           5.0          3.6           1.4          0.2  setosa\n",
      "100.0\n"
     ]
    }
   ],
   "execution_count": 3
  },
  {
   "metadata": {},
   "cell_type": "markdown",
   "source": [
    "### Define dataframes X and y where X contains the feature values in the dataframe\n",
    "### and y contains the target values."
   ],
   "id": "d267a6ffa55647d8"
  },
  {
   "metadata": {
    "ExecuteTime": {
     "end_time": "2025-10-19T16:02:35.466702Z",
     "start_time": "2025-10-19T16:02:35.462924Z"
    }
   },
   "cell_type": "code",
   "source": [
    "x = df[[\"sepal_length\" , \"sepal_width\" , \"petal_length\", \"petal_width\" ]].to_numpy()\n",
    "y = df[\"species\"].to_numpy()\n",
    "print(type(x))\n",
    "print(type(y))"
   ],
   "id": "8dc9c79c89ecf5b8",
   "outputs": [
    {
     "name": "stdout",
     "output_type": "stream",
     "text": [
      "<class 'numpy.ndarray'>\n",
      "<class 'numpy.ndarray'>\n"
     ]
    }
   ],
   "execution_count": 4
  },
  {
   "metadata": {},
   "cell_type": "markdown",
   "source": [
    "### Define dataframes X and y where X contains the feature values in the dataframe\n",
    "### and y contains the target values. Use df.drop() to define X and and df.species to\n",
    "### define y"
   ],
   "id": "493dec393a0ee3a7"
  },
  {
   "metadata": {
    "ExecuteTime": {
     "end_time": "2025-10-19T16:02:35.481413Z",
     "start_time": "2025-10-19T16:02:35.474776Z"
    }
   },
   "cell_type": "code",
   "source": [
    "print(df.head())\n",
    "X = df.drop(\"species\" , axis = \"columns\")\n",
    "Y = df.species\n",
    "X.head()"
   ],
   "id": "2776199dd25f9db",
   "outputs": [
    {
     "name": "stdout",
     "output_type": "stream",
     "text": [
      "   sepal_length  sepal_width  petal_length  petal_width species\n",
      "0           5.1          3.5           1.4          0.2  setosa\n",
      "1           4.9          3.0           1.4          0.2  setosa\n",
      "2           4.7          3.2           1.3          0.2  setosa\n",
      "3           4.6          3.1           1.5          0.2  setosa\n",
      "4           5.0          3.6           1.4          0.2  setosa\n"
     ]
    },
    {
     "data": {
      "text/plain": [
       "   sepal_length  sepal_width  petal_length  petal_width\n",
       "0           5.1          3.5           1.4          0.2\n",
       "1           4.9          3.0           1.4          0.2\n",
       "2           4.7          3.2           1.3          0.2\n",
       "3           4.6          3.1           1.5          0.2\n",
       "4           5.0          3.6           1.4          0.2"
      ],
      "text/html": [
       "<div>\n",
       "<style scoped>\n",
       "    .dataframe tbody tr th:only-of-type {\n",
       "        vertical-align: middle;\n",
       "    }\n",
       "\n",
       "    .dataframe tbody tr th {\n",
       "        vertical-align: top;\n",
       "    }\n",
       "\n",
       "    .dataframe thead th {\n",
       "        text-align: right;\n",
       "    }\n",
       "</style>\n",
       "<table border=\"1\" class=\"dataframe\">\n",
       "  <thead>\n",
       "    <tr style=\"text-align: right;\">\n",
       "      <th></th>\n",
       "      <th>sepal_length</th>\n",
       "      <th>sepal_width</th>\n",
       "      <th>petal_length</th>\n",
       "      <th>petal_width</th>\n",
       "    </tr>\n",
       "  </thead>\n",
       "  <tbody>\n",
       "    <tr>\n",
       "      <th>0</th>\n",
       "      <td>5.1</td>\n",
       "      <td>3.5</td>\n",
       "      <td>1.4</td>\n",
       "      <td>0.2</td>\n",
       "    </tr>\n",
       "    <tr>\n",
       "      <th>1</th>\n",
       "      <td>4.9</td>\n",
       "      <td>3.0</td>\n",
       "      <td>1.4</td>\n",
       "      <td>0.2</td>\n",
       "    </tr>\n",
       "    <tr>\n",
       "      <th>2</th>\n",
       "      <td>4.7</td>\n",
       "      <td>3.2</td>\n",
       "      <td>1.3</td>\n",
       "      <td>0.2</td>\n",
       "    </tr>\n",
       "    <tr>\n",
       "      <th>3</th>\n",
       "      <td>4.6</td>\n",
       "      <td>3.1</td>\n",
       "      <td>1.5</td>\n",
       "      <td>0.2</td>\n",
       "    </tr>\n",
       "    <tr>\n",
       "      <th>4</th>\n",
       "      <td>5.0</td>\n",
       "      <td>3.6</td>\n",
       "      <td>1.4</td>\n",
       "      <td>0.2</td>\n",
       "    </tr>\n",
       "  </tbody>\n",
       "</table>\n",
       "</div>"
      ]
     },
     "execution_count": 5,
     "metadata": {},
     "output_type": "execute_result"
    }
   ],
   "execution_count": 5
  }
 ],
 "metadata": {
  "kernelspec": {
   "display_name": "Python 3",
   "language": "python",
   "name": "python3"
  },
  "language_info": {
   "codemirror_mode": {
    "name": "ipython",
    "version": 2
   },
   "file_extension": ".py",
   "mimetype": "text/x-python",
   "name": "python",
   "nbconvert_exporter": "python",
   "pygments_lexer": "ipython2",
   "version": "2.7.6"
  }
 },
 "nbformat": 4,
 "nbformat_minor": 5
}
