{
 "cells": [
  {
   "metadata": {},
   "cell_type": "markdown",
   "source": "### 1D ARRAY",
   "id": "a183496f6b6ca24e"
  },
  {
   "metadata": {
    "ExecuteTime": {
     "end_time": "2025-10-18T22:26:55.063530Z",
     "start_time": "2025-10-18T22:26:55.061162Z"
    }
   },
   "cell_type": "code",
   "outputs": [
    {
     "name": "stdout",
     "output_type": "stream",
     "text": [
      "n = [12  3  6 14]\n",
      "n.ndim = 1\n",
      "n.shape = (4,)\n",
      "<class 'numpy.ndarray'>\n",
      "12\n"
     ]
    }
   ],
   "execution_count": 4,
   "source": [
    "import numpy as np\n",
    "n = np.array([12,3,6,14])\n",
    "print(\"n =\", n)\n",
    "print(\"n.ndim =\", n.ndim)\n",
    "print(\"n.shape =\", n.shape)\n",
    "print(type(n))\n",
    "print(n[0])"
   ],
   "id": "1ec0c128ea023683"
  },
  {
   "metadata": {},
   "cell_type": "markdown",
   "source": "### 2D ARRAY",
   "id": "c1f1002856147bef"
  },
  {
   "metadata": {
    "collapsed": true,
    "ExecuteTime": {
     "end_time": "2025-10-18T22:30:59.915798Z",
     "start_time": "2025-10-18T22:30:59.912346Z"
    }
   },
   "cell_type": "code",
   "outputs": [
    {
     "name": "stdout",
     "output_type": "stream",
     "text": [
      "n = [[ 1  2  3  4]\n",
      " [ 5  6  7  8]\n",
      " [ 9 10 11 12]]\n",
      "n.ndim = 2\n",
      "n.shape = (3, 4)\n",
      "<class 'numpy.ndarray'>\n",
      "[1 2 3 4]\n"
     ]
    }
   ],
   "execution_count": 5,
   "source": [
    "n = np.array([ [1,2,3,4],\n",
    "               [5,6,7,8],\n",
    "               [9,10,11,12]\n",
    "               ])\n",
    "print(\"n =\", n)\n",
    "print(\"n.ndim =\", n.ndim)\n",
    "print(\"n.shape =\", n.shape)\n",
    "print(type(n))\n",
    "print(n[0,1])"
   ],
   "id": "c3a28a958eb44691"
  },
  {
   "metadata": {},
   "cell_type": "markdown",
   "source": "### 3D ARRAY",
   "id": "edd8a50792be642e"
  },
  {
   "metadata": {
    "ExecuteTime": {
     "end_time": "2025-10-18T22:38:20.106465Z",
     "start_time": "2025-10-18T22:38:20.103093Z"
    }
   },
   "cell_type": "code",
   "outputs": [
    {
     "name": "stdout",
     "output_type": "stream",
     "text": [
      "n = [[[ 1  2  3  4]\n",
      "  [ 5  6  7  8]\n",
      "  [ 9 10 11 12]]\n",
      "\n",
      " [[ 1  2  3  4]\n",
      "  [ 5  6  7  8]\n",
      "  [ 9 10 11 12]]\n",
      "\n",
      " [[ 1  2  3  4]\n",
      "  [ 5  6  7  8]\n",
      "  [ 9 10 11 12]]]\n",
      "n.ndim = 3\n",
      "n.shape = (3, 3, 4)\n",
      "<class 'numpy.ndarray'>\n",
      "[5 6 7 8]\n"
     ]
    }
   ],
   "execution_count": 7,
   "source": [
    "n = np.array(\n",
    "    [\n",
    "        [\n",
    "            [1,2,3,4], [5,6,7,8], [9,10,11,12],\n",
    "        ],\n",
    "        [\n",
    "            [1,2,3,4], [5,6,7,8], [9,10,11,12]\n",
    "        ],\n",
    "        [\n",
    "            [1,2,3,4], [5,6,7,8], [9,10,11,12]\n",
    "        ]\n",
    "   ]\n",
    "\n",
    ")\n",
    "print(\"n =\", n)\n",
    "print(\"n.ndim =\", n.ndim)\n",
    "print(\"n.shape =\", n.shape)\n",
    "print(type(n))\n",
    "print(n[0,1])"
   ],
   "id": "4d17ace3a541d013"
  },
  {
   "metadata": {},
   "cell_type": "markdown",
   "source": "### Reshape a 1D array to a 2D array",
   "id": "8deb820957eca664"
  },
  {
   "metadata": {
    "ExecuteTime": {
     "end_time": "2025-10-18T22:48:07.356451Z",
     "start_time": "2025-10-18T22:48:07.353383Z"
    }
   },
   "cell_type": "code",
   "source": [
    "n = np.array([12,3,6,14])\n",
    "n2 = np.reshape(n,(1,-1))\n",
    "print(n2)"
   ],
   "id": "d2cd76d314966162",
   "outputs": [
    {
     "name": "stdout",
     "output_type": "stream",
     "text": [
      "[[12  3  6 14]]\n"
     ]
    }
   ],
   "execution_count": 10
  }
 ],
 "metadata": {
  "kernelspec": {
   "display_name": "Python 3",
   "language": "python",
   "name": "python3"
  },
  "language_info": {
   "codemirror_mode": {
    "name": "ipython",
    "version": 2
   },
   "file_extension": ".py",
   "mimetype": "text/x-python",
   "name": "python",
   "nbconvert_exporter": "python",
   "pygments_lexer": "ipython2",
   "version": "2.7.6"
  }
 },
 "nbformat": 4,
 "nbformat_minor": 5
}
