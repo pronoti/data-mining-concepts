{
 "cells": [
  {
   "metadata": {},
   "cell_type": "markdown",
   "source": [
    "#### Simple Linear Regression Model\n",
    "- x = np.array([1, 2, 3, 4, 5, 6]]).reshape(-1, 1)\n",
    "- y = np.array([6,1,9,5,17,12])\n",
    "-  Build a linear regression model for y in terms of x.\n",
    "-  Print out the slope and intercept.\n",
    "-  For all the values of x what are the predicted values of y\n",
    "-  Draw a scatter ploy for x and y\n",
    "- Add the line of best fit to the plot.\n",
    "-  Find R squared from the linear model (model.score(X,y))"
   ],
   "id": "e76ce49abf576634"
  },
  {
   "metadata": {
    "collapsed": true,
    "ExecuteTime": {
     "end_time": "2025-10-19T21:39:28.767719Z",
     "start_time": "2025-10-19T21:39:28.721343Z"
    }
   },
   "cell_type": "code",
   "source": [
    "import numpy as np\n",
    "from sklearn.linear_model import LinearRegression\n",
    "import matplotlib.pyplot as plt\n",
    "\n",
    "X = np.array([1, 2, 3, 4, 5, 6]).reshape(-1, 1)\n",
    "y = np.array([6,1,9,5,17,12])\n",
    "print(\"x shape: \", X.shape)\n",
    "print(\"y shape: \", y.shape)\n",
    "model = LinearRegression()\n",
    "model.fit(X, y)\n",
    "print(\"Coefficients: \", model.coef_)\n",
    "print(\"Intercept: \", model.intercept_)\n",
    "\n",
    "y_hat = model.predict(X)\n",
    "print(\"predicted response: \", y_hat, sep = '\\n')\n",
    "plt.scatter(X, y, color = 'red', label = 'Actual')\n",
    "plt.plot(X, y_hat, color = 'blue', label = 'Predicted')\n",
    "plt.legend(loc = 'upper left')\n",
    "plt.title(\"Predicted and Actual values of y\")\n",
    "plt.xlabel('X')\n",
    "plt.ylabel('y')\n",
    "plt.show()\n",
    "\n",
    "print(\"R squared: \", model.score(X, y))\n"
   ],
   "id": "88a3b9b12d224982",
   "outputs": [
    {
     "name": "stdout",
     "output_type": "stream",
     "text": [
      "x shape:  (6, 1)\n",
      "y shape:  (6,)\n",
      "Coefficients:  [2.11428571]\n",
      "Intercept:  0.9333333333333336\n",
      "predicted response: \n",
      "[ 3.04761905  5.16190476  7.27619048  9.39047619 11.5047619  13.61904762]\n"
     ]
    },
    {
     "data": {
      "text/plain": [
       "<Figure size 640x480 with 1 Axes>"
      ],
      "image/png": "[encoded data removed]"
     },
     "metadata": {},
     "output_type": "display_data",
     "jetTransient": {
      "display_id": null
     }
    },
    {
     "name": "stdout",
     "output_type": "stream",
     "text": [
      "R squared:  0.49097429766885825\n"
     ]
    }
   ],
   "execution_count": 12
  },
  {
   "metadata": {},
   "cell_type": "markdown",
   "source": [
    "#### Calculate parameters without\n",
    "- sklearn.linear_model.LinearRegression\n",
    "- For the regression line y = a x + b, and x and y given above, calculate the values of a and b\n",
    "- using the following equations.\n",
    "- a = (nΣxy - (Σx)(Σy)) / (nΣxxy - (Σxy - (Σx)(Σy)) / (nΣxx)(Σxy - (Σx)(Σy)) / (nΣxy)) / (nΣxy - (Σx)(Σy)) / (nΣxx2\n",
    " - – (Σxy - (Σx)(Σy)) / (nΣxx)2)\n",
    "\n",
    "- b = (Σxy - (Σx)(Σy)) / (nΣxy - a(Σxy - (Σx)(Σy)) / (nΣxx)) / n\n",
    "- a is the slope and b is the intercept in the linear regression model. The values of a and b\n",
    "- should be the same as found by LinearRegression fit() function.\n",
    "- Use x*y to multiply the corresponding elements of x and y.\n",
    "- Use sum (or np.sum) to sum the elements of an array"
   ],
   "id": "fac0c2b35fc8f453"
  },
  {
   "metadata": {
    "ExecuteTime": {
     "end_time": "2025-10-19T21:54:28.032347Z",
     "start_time": "2025-10-19T21:54:28.027672Z"
    }
   },
   "cell_type": "code",
   "source": [
    "X = np.array([1, 2, 3, 4, 5, 6])\n",
    "y = np.array([6,1,9,5,17,12])\n",
    "\n",
    "n = len(X)\n",
    "print(n)\n",
    "\n",
    "a_numerator = n*(sum(X*y)) - (sum(X) * sum(y))\n",
    "a_denominator = n*(sum(X**2)) - (sum(X)**2)\n",
    "print(\"numerator: \", a_numerator)\n",
    "print(\"denominator: \", a_denominator)\n",
    "\n",
    "a = a_numerator / a_denominator\n",
    "print(\"Slope\", a)\n",
    "\n",
    "b_numerator = (sum(y) - a*(sum(X)))/n\n",
    "print(\"Intercept\", b_numerator)"
   ],
   "id": "303a2dd10c62d29e",
   "outputs": [
    {
     "name": "stdout",
     "output_type": "stream",
     "text": [
      "6\n",
      "numerator:  222\n",
      "denominator:  105\n",
      "Slope 2.1142857142857143\n",
      "Intercept 0.9333333333333336\n"
     ]
    }
   ],
   "execution_count": 20
  },
  {
   "metadata": {},
   "cell_type": "markdown",
   "source": [
    "#### Q3.\n",
    "- x = np.array([1, 2, 3, 4, 5, 6]]).reshape(-1, 1)\n",
    "- y = np.array([6,1,9,5,17,12])\n",
    "- • Calculate R squared by hand\n",
    "- • Find R squared from the linear model (model.score(x,y))\n",
    "- • Calculate RMSE by hand\n",
    "- • Calculate RMSE using mean_square_error and setting the parameter\n",
    "- squared to False.\n",
    "- Use np.square to square an array.\n",
    "- Use np.mean to get the mean of an array."
   ],
   "id": "8c097a3c29e68195"
  },
  {
   "metadata": {
    "ExecuteTime": {
     "end_time": "2025-10-19T22:05:34.498065Z",
     "start_time": "2025-10-19T22:05:34.491963Z"
    }
   },
   "cell_type": "code",
   "source": [
    "import math\n",
    "\n",
    "X = np.array([1, 2, 3, 4, 5, 6]).reshape(-1, 1)\n",
    "y = np.array([6,1,9,5,17,12])\n",
    "model = LinearRegression()\n",
    "model.fit(X, y)\n",
    "y_hat = model.predict(X)\n",
    "print(\"predicted response: \", y_hat, sep = '\\n')\n",
    "r_squared = model.score(X,y)\n",
    "print(\"coefficient of determination(R2): \", r_squared)\n",
    "print(\"Correlation Coefficient: \", math.sqrt(r_squared))\n"
   ],
   "id": "12b32373404cd941",
   "outputs": [
    {
     "name": "stdout",
     "output_type": "stream",
     "text": [
      "coefficient of determination(R2):  0.49097429766885825\n",
      "Correlation Coefficient:  0.7006955813110699\n"
     ]
    }
   ],
   "execution_count": 21
  },
  {
   "metadata": {},
   "cell_type": "markdown",
   "source": "#### By hand",
   "id": "727290aa47ac0656"
  },
  {
   "metadata": {},
   "cell_type": "code",
   "outputs": [],
   "execution_count": null,
   "source": [
    "y_hat = model.predict(X)\n",
    "print(\"predicted response: \", y_hat, sep = '\\n')\n",
    "\n",
    "errors = y_hat - y\n",
    "\n",
    "# sum of square of residuals (errors)\n",
    "SSres = sum(np.square(errors))\n",
    "print(\"Squared error: \", SSres)\n",
    "\n",
    "SStot = sum(np.square(y - np.mean(y)))\n",
    "print(\"Sum of squared errors: \", SStot)\n",
    "\n",
    "r_squared = 1 - (SSres / SStot)\n",
    "print(\"coefficient of determination(R2): \", r_squared)"
   ],
   "id": "9098d183d47ab2ac"
  },
  {
   "metadata": {
    "ExecuteTime": {
     "end_time": "2025-10-19T22:28:36.400301Z",
     "start_time": "2025-10-19T22:28:36.396512Z"
    }
   },
   "cell_type": "code",
   "source": [
    "from sklearn.metrics import mean_squared_error\n",
    "y_hat = model.predict(X)\n",
    "print(\"predicted response: \", y_hat, sep = '\\n')\n",
    "\n",
    "errors = y_hat - y\n",
    "\n",
    "rmse = math.sqrt(np.mean(np.square(errors)))\n",
    "print(\"Root mean square error: \", rmse)\n",
    "print(\"RMSE using root mean square error: \", mean_squared_error(y, y_hat))"
   ],
   "id": "4563e83f312412a1",
   "outputs": [
    {
     "name": "stdout",
     "output_type": "stream",
     "text": [
      "predicted response: \n",
      "[ 3.04761905  5.16190476  7.27619048  9.39047619 11.5047619  13.61904762]\n",
      "Root mean square error:  3.6766098946529966\n",
      "RMSE using root mean square error:  13.51746031746032\n"
     ]
    }
   ],
   "execution_count": 25
  },
  {
   "metadata": {},
   "cell_type": "markdown",
   "source": [
    "#### Q4. Linear Regression – Stackloss\n",
    "- Read the stackloss dataset from stackloss.csv.\n",
    "-  Get a summary of numerical features\n",
    "-  Get a matrix of correlation coefficients between the variables\n",
    "-  Draw a matrix of scatterplots.\n",
    "-  Which input variables correlate the most strongly with stackloss?\n",
    "-  Build a linear regression for stackloss in terms of the other (input) variables.\n",
    "-  Print out the interface and the coefficients of the input variables.\n",
    "-  For new input data - newData = [[72, 20, 85]], make a prediction for the stackloss."
   ],
   "id": "e6332560978a9f37"
  },
  {
   "metadata": {},
   "cell_type": "code",
   "outputs": [],
   "execution_count": null,
   "source": "",
   "id": "6a68f57784abab65"
  }
 ],
 "metadata": {
  "kernelspec": {
   "display_name": "Python 3",
   "language": "python",
   "name": "python3"
  },
  "language_info": {
   "codemirror_mode": {
    "name": "ipython",
    "version": 2
   },
   "file_extension": ".py",
   "mimetype": "text/x-python",
   "name": "python",
   "nbconvert_exporter": "python",
   "pygments_lexer": "ipython2",
   "version": "2.7.6"
  }
 },
 "nbformat": 4,
 "nbformat_minor": 5
}
