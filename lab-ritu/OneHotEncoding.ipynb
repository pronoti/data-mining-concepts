{
 "cells": [
  {
   "metadata": {},
   "cell_type": "markdown",
   "source": [
    "#### (Onehot Encoding)\n",
    "- Load the mushroom dataset from a csv file.\n",
    "- Set X to be all columns except type.\n",
    "- Set y to be the type. (classification problem.)\n",
    "- Use X =pd.get_dummies(X) to one hot encode X."
   ],
   "id": "647e8a95e5ae0dbf"
  },
  {
   "metadata": {
    "collapsed": true,
    "ExecuteTime": {
     "end_time": "2025-10-19T01:05:22.881121Z",
     "start_time": "2025-10-19T01:05:22.825620Z"
    }
   },
   "cell_type": "code",
   "source": [
    "import pandas as pd\n",
    "mushrooms = pd.read_csv(\"../data/mushrooms.csv\")\n",
    "#print(mushrooms.head())\n",
    "#print(mushrooms.columns)\n",
    "X = pd.get_dummies(mushrooms)\n",
    "#print(X.head())\n",
    "Y = mushrooms.type\n",
    "print(Y.head())"
   ],
   "id": "35cc5962deefe089",
   "outputs": [
    {
     "name": "stdout",
     "output_type": "stream",
     "text": [
      "0    poisonous\n",
      "1       edible\n",
      "2       edible\n",
      "3    poisonous\n",
      "4       edible\n",
      "Name: type, dtype: object\n"
     ]
    }
   ],
   "execution_count": 2
  }
 ],
 "metadata": {
  "kernelspec": {
   "display_name": "Python 3",
   "language": "python",
   "name": "python3"
  },
  "language_info": {
   "codemirror_mode": {
    "name": "ipython",
    "version": 2
   },
   "file_extension": ".py",
   "mimetype": "text/x-python",
   "name": "python",
   "nbconvert_exporter": "python",
   "pygments_lexer": "ipython2",
   "version": "2.7.6"
  }
 },
 "nbformat": 4,
 "nbformat_minor": 5
}
