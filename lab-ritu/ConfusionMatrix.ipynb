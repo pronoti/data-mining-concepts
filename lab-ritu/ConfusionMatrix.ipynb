{
 "cells": [
  {
   "metadata": {},
   "cell_type": "markdown",
   "source": [
    "#### For the values actual = [0, 1, 0, 1] and predicted = [1, 1, 1, 0]\n",
    "#### • Find the confusion matrix.\n",
    "#### • Print it out\n",
    "#### • Find the values of TN, FP, FN, TP"
   ],
   "id": "368973876368bced"
  },
  {
   "metadata": {
    "collapsed": true,
    "ExecuteTime": {
     "end_time": "2025-10-19T01:05:00.724608Z",
     "start_time": "2025-10-19T01:05:00.715649Z"
    }
   },
   "cell_type": "code",
   "source": [
    "from sklearn.metrics import confusion_matrix\n",
    "actual = [0, 1, 0, 1]\n",
    "predicted = [1, 1, 1, 0]\n",
    "cm = confusion_matrix(actual, predicted)\n",
    "print(type(cm))\n",
    "print(\" \",\"0 \",\"1 \",\"P \")\n",
    "print(0, \"TN\", \"FP\")\n",
    "print(1, \"FN\", \"TP\")\n",
    "print(\"A\")\n",
    "print()\n",
    "\n",
    "print(\"confusion matrix\")\n",
    "print(cm)\n",
    "\n"
   ],
   "id": "b4ae5308c4f74976",
   "outputs": [
    {
     "name": "stdout",
     "output_type": "stream",
     "text": [
      "<class 'numpy.ndarray'>\n",
      "  0  1  P \n",
      "0 TN FP\n",
      "1 FN TP\n",
      "A\n",
      "\n",
      "confusion matrix\n",
      "[[0 2]\n",
      " [1 1]]\n"
     ]
    }
   ],
   "execution_count": 6
  },
  {
   "metadata": {},
   "cell_type": "markdown",
   "source": "### Do the same for actual = ['B', 'M', 'B', 'M'] and predicted = ['M', 'M', 'M', 'B']",
   "id": "4f14dde5791223c4"
  },
  {
   "metadata": {
    "ExecuteTime": {
     "end_time": "2025-10-19T01:05:00.757768Z",
     "start_time": "2025-10-19T01:05:00.748589Z"
    }
   },
   "cell_type": "code",
   "source": [
    "actual = ['B', 'M', 'B', 'M']\n",
    "predicted = ['M', 'M', 'M', 'B']\n",
    "cm = confusion_matrix(actual,predicted)\n",
    "print(type(cm))\n",
    "print(\" \",\"0 \",\"1 \",\"P \")\n",
    "print(0, \"TN\", \"FP\")\n",
    "print(1, \"FN\", \"TP\")\n",
    "print(\"A\")\n",
    "print()\n",
    "\n",
    "print(\"confusion matrix\")\n",
    "print(cm)"
   ],
   "id": "85546063005e2745",
   "outputs": [
    {
     "name": "stdout",
     "output_type": "stream",
     "text": [
      "<class 'numpy.ndarray'>\n",
      "  0  1  P \n",
      "0 TN FP\n",
      "1 FN TP\n",
      "A\n",
      "\n",
      "confusion matrix\n",
      "[[0 2]\n",
      " [1 1]]\n"
     ]
    }
   ],
   "execution_count": 7
  },
  {
   "metadata": {},
   "cell_type": "markdown",
   "source": [
    "#### Do the same for actual = ['W', 'M', 'W', 'M'] and predicted = ['M', 'M', 'M', 'W'] but make W\n",
    "#### the negative and M the positive."
   ],
   "id": "a2714dbda7c4224f"
  },
  {
   "metadata": {
    "ExecuteTime": {
     "end_time": "2025-10-19T01:05:00.779102Z",
     "start_time": "2025-10-19T01:05:00.771745Z"
    }
   },
   "cell_type": "code",
   "source": [
    "actual = ['W', 'M', 'W', 'M']\n",
    "predicted = ['M', 'M', 'M', 'W']\n",
    "# labels forces W to 0(negative) and M to 1(positive)\n",
    "cm = confusion_matrix(actual, predicted, labels=[\"W\", \"M\"])\n",
    "print(type(cm))\n",
    "print(\" \", \"0 \", \"1 \", \"P \")\n",
    "print(0, \"TN\", \"FP\")\n",
    "print(1, \"FN\", \"TP\")\n",
    "print(\"A\")\n",
    "print()\n",
    "print(\"confusion matrix\")\n",
    "print(cm)"
   ],
   "id": "f48b8aad1ffe7563",
   "outputs": [
    {
     "name": "stdout",
     "output_type": "stream",
     "text": [
      "<class 'numpy.ndarray'>\n",
      "  0  1  P \n",
      "0 TN FP\n",
      "1 FN TP\n",
      "A\n",
      "\n",
      "confusion matrix\n",
      "[[0 2]\n",
      " [1 1]]\n"
     ]
    }
   ],
   "execution_count": 8
  },
  {
   "metadata": {},
   "cell_type": "markdown",
   "source": [
    "#### Do the same for actual = [\"cat\", \"ant\", \"cat\", \"cat\", \"ant\", \"bird\"] and predicted = [\"ant\",\n",
    "#### \"ant\", \"cat\", \"cat\", \"ant\", \"cat\"]"
   ],
   "id": "3ec007d502f0c346"
  },
  {
   "metadata": {
    "ExecuteTime": {
     "end_time": "2025-10-19T01:05:00.799087Z",
     "start_time": "2025-10-19T01:05:00.790656Z"
    }
   },
   "cell_type": "code",
   "source": [
    "actual = [\"cat\", \"ant\", \"cat\", \"cat\", \"ant\", \"bird\"]\n",
    "predicted = [\"ant\",\"ant\", \"cat\", \"cat\", \"ant\", \"cat\"]\n",
    "cm = confusion_matrix(actual,predicted)\n",
    "print(type(cm))\n",
    "print(cm)\n",
    "cm = confusion_matrix(actual,predicted, labels = [\"ant\", \"cat\", \"bird\"])\n",
    "print(type(cm))\n",
    "print(cm)\n"
   ],
   "id": "fffe2013a16e9750",
   "outputs": [
    {
     "name": "stdout",
     "output_type": "stream",
     "text": [
      "<class 'numpy.ndarray'>\n",
      "[[2 0 0]\n",
      " [0 0 1]\n",
      " [1 0 2]]\n",
      "<class 'numpy.ndarray'>\n",
      "[[2 0 0]\n",
      " [1 2 0]\n",
      " [0 1 0]]\n"
     ]
    }
   ],
   "execution_count": 9
  },
  {
   "metadata": {},
   "cell_type": "markdown",
   "source": [
    "### The following is actual and predicted values for a cyber-security model.\n",
    "- actual = ['attack', 'normal', 'normal', 'attack', 'normal', 'normal', 'attack', 'normal', 'attack']\n",
    "- predicted = ['attack', 'normal', 'attack', 'attack', 'normal', 'normal', 'normal', 'normal', 'normal']\n",
    "#### Print out the confusion matrix and the values of tn, fp, fn, tp."
   ],
   "id": "440d9c479c13f2d0"
  },
  {
   "metadata": {
    "ExecuteTime": {
     "end_time": "2025-10-19T01:05:00.849868Z",
     "start_time": "2025-10-19T01:05:00.838600Z"
    }
   },
   "cell_type": "code",
   "source": [
    "actual = ['attack', 'normal', 'normal', 'attack', 'normal', 'normal', 'attack', 'normal', 'attack']\n",
    "predicted = ['attack', 'normal', 'attack', 'attack', 'normal', 'normal', 'normal', 'normal', 'normal']\n",
    "cm = confusion_matrix(actual,predicted)\n",
    "print(type(cm))\n",
    "print(cm)\n",
    "r = cm.ravel()\n",
    "print(type(r))\n",
    "tn, fp,fn,tp = cm.ravel()\n",
    "print(\"TN\",tn, \"FP\",fp, \"FN\",fn, \"TP\", tp)\n",
    "\n",
    "cm = confusion_matrix(actual,predicted, labels =['normal', 'attack'])\n",
    "print(type(cm))\n",
    "print(cm)\n",
    "r = cm.ravel()\n",
    "print(type(r))\n",
    "tn, fp,fn,tp = cm.ravel()\n",
    "print(\"TN\",tn, \"FP\",fp, \"FN\",fn, \"TP\", tp)"
   ],
   "id": "d854260680f9f89c",
   "outputs": [
    {
     "name": "stdout",
     "output_type": "stream",
     "text": [
      "<class 'numpy.ndarray'>\n",
      "[[2 2]\n",
      " [1 4]]\n",
      "<class 'numpy.ndarray'>\n",
      "TN 2 FP 2 FN 1 TP 4\n",
      "<class 'numpy.ndarray'>\n",
      "[[4 1]\n",
      " [2 2]]\n",
      "<class 'numpy.ndarray'>\n",
      "TN 4 FP 1 FN 2 TP 2\n"
     ]
    }
   ],
   "execution_count": 10
  }
 ],
 "metadata": {
  "kernelspec": {
   "display_name": "Python 3",
   "language": "python",
   "name": "python3"
  },
  "language_info": {
   "codemirror_mode": {
    "name": "ipython",
    "version": 2
   },
   "file_extension": ".py",
   "mimetype": "text/x-python",
   "name": "python",
   "nbconvert_exporter": "python",
   "pygments_lexer": "ipython2",
   "version": "2.7.6"
  }
 },
 "nbformat": 4,
 "nbformat_minor": 5
}
