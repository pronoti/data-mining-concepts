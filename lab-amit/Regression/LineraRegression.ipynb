{
 "cells": [
  {
   "metadata": {},
   "cell_type": "markdown",
   "source": [
    "### Simple Linear Regression Mode\n",
    "#### x = np.array([1, 2, 3, 4, 5, 6]).reshape(-1, 1)\n",
    "#### y = np.array([6,1,9,5,17,12])\n",
    "- Build a linear regression model for y in terms of x.\n",
    "- Print out the slope and intercept.\n",
    "- For all the values of x what are the predicted values of y\n",
    "- Draw a scatter ploy for x and y\n",
    "- Add the line of best fit to the plot.\n",
    "- Find R squared from the linear model (model.score(X,y))"
   ],
   "id": "9de0bc4f3bc81d70"
  },
  {
   "metadata": {},
   "cell_type": "code",
   "outputs": [],
   "execution_count": null,
   "source": [
    "import numpy as np\n",
    "from sklearn.linear_model import LinearRegression\n",
    "import matplotlib.pyplot as plt\n",
    "from sklearn.metrics import mean_squared_error\n",
    "\n",
    "X = np.array([1, 2, 3, 4, 5, 6]).reshape(-1, 1)\n",
    "y = np.array([6,1,9,5,17,12])\n",
    "print(\"X shape: \", X.shape)\n",
    "print(\"y shape: \", y.shape)\n",
    "\n",
    "model = LinearRegression()\n",
    "model.fit(X, y)\n",
    "\n",
    "print(\"Slope (a): \", model.coef_)\n",
    "print(\"Intercept (b): \", model.intercept_)\n",
    "\n",
    "y_hat = model.predict(x)\n",
    "print(\"Predicted value of y for X: \", y_hat, sep='\\n')\n",
    "\n",
    "plt.scatter(X, y, color='blue', label='Actual')\n",
    "plt.plot(X, y_hat, color='green', label='Predicted', linewidth=3)\n",
    "plt.xlabel('Actual')\n",
    "plt.ylabel('Predicted')\n",
    "plt.legend(loc='upper left')\n",
    "plt.title('Predicted and Actual Values of y')\n",
    "plt.show()\n",
    "# plt.savefig('plots/p2predictedActual.png')\n",
    "\n",
    "print(\"R squared: \", model.score(X, y))"
   ],
   "id": "a5ebac3a4f6824d3"
  },
  {
   "metadata": {},
   "cell_type": "markdown",
   "source": [
    "### Calculate parameters without sklearn.linear_model.LinearRegression\n",
    "#### For the regression line y = a x + b, and x and y given above, calculate the values of a and b using the following equations.\n",
    "- a = (nΣxy - (Σx)(Σy)) / (nΣxxy - (Σxy - (Σx)(Σy)) / (nΣxx)(Σxy - (Σx)(Σy)) / (nΣxy)) / (nΣxy - (Σx)(Σy)) / (nΣxx2\n",
    " – (Σxy - (Σx)(Σy)) / (nΣxx)2\n",
    ")\n",
    "- b = (Σxy - (Σx)(Σy)) / (nΣxy - a(Σxy - (Σx)(Σy)) / (nΣxx)) / n\n",
    "##### a is the slope and b is the intercept in the linear regression model. The values of a and b should be the same as found by LinearRegression fit() function.\n",
    "##### Use x*y to multiply the corresponding elements of x and y.\n",
    "##### Use sum (or np.sum) to sum the elements of an array."
   ],
   "id": "ab66d36a82aca2fd"
  },
  {
   "metadata": {},
   "cell_type": "code",
   "outputs": [],
   "execution_count": null,
   "source": [
    "X = np.array([1, 2, 3, 4, 5, 6]).reshape(-1, 1)\n",
    "y = np.array([6,1,9,5,17,12])\n",
    "\n",
    "n = len(X)\n",
    "print(n)\n",
    "\n",
    "a_numerator = (n * (sum(X*y))) - (sum(X)*sum(y))\n",
    "a_denominator = (n*sum(np.square(X))) - np.square(sum(X))\n",
    "a = a_numerator/a_denominator\n",
    "print(\"Slope (a): \", a)\n",
    "\n",
    "b_numerator = sum(y) - a*sum(X)\n",
    "b = b_numerator/n\n",
    "print(\"Intercept (b): \", b)"
   ],
   "id": "5ef7f859dd4c4343"
  },
  {
   "metadata": {},
   "cell_type": "markdown",
   "source": [
    "#### x = np.array([1, 2, 3, 4, 5, 6]).reshape(-1, 1)\n",
    "#### y = np.array([6,1,9,5,17,12])\n",
    "- Calculate R squared by hand\n",
    "- Find R squared from the linear model (model.score(x,y))\n",
    "- Calculate RMSE by hand\n",
    "- Calculate RMSE using mean_square_error and setting the parameter squared to False.\n",
    "##### Use np.square to square an array.\n",
    "##### Use np.mean to get the mean of an array."
   ],
   "id": "a52ac5030b04fda8"
  },
  {
   "metadata": {},
   "cell_type": "markdown",
   "source": "### From the model",
   "id": "6aca6e0641724d2b"
  },
  {
   "metadata": {},
   "cell_type": "code",
   "outputs": [],
   "execution_count": null,
   "source": [
    "import math\n",
    "\n",
    "X = np.array([1, 2, 3, 4, 5, 6]).reshape(-1, 1)\n",
    "y = np.array([6,1,9,5,17,12])\n",
    "\n",
    "model = LinearRegression()\n",
    "model.fit(X, y)\n",
    "\n",
    "r_squared = model.score(X, y)\n",
    "print('Coefficient of determination (R^2):', r_squared)\n",
    "print('Correlation coefficient (r):', math.sqrt(r_squared))"
   ],
   "id": "36ebf99a14efb1a7"
  },
  {
   "metadata": {},
   "cell_type": "markdown",
   "source": "### By Hand",
   "id": "746ede26e1bcf1bc"
  },
  {
   "metadata": {},
   "cell_type": "code",
   "outputs": [],
   "execution_count": null,
   "source": [
    "y_hat = model.predict(X)\n",
    "print('predicted values:', y_hat)\n",
    "\n",
    "errors = y_hat-y\n",
    "\n",
    "# Sum of square of Residuals (Errors)\n",
    "SSres = sum(np.square(errors))\n",
    "# print(SSres)\n",
    "\n",
    "# Sum of square of Total Variance\n",
    "SStot = sum(np.square(y-np.mean(y)))\n",
    "# print(SStot)\n",
    "\n",
    "# R squared\n",
    "rSquared = 1 - (SSres/SStot)\n",
    "print(\"Calculated R squared\", rSquared)\n",
    "print(\"Using sklearn.linear_model.LinearRegression:\", model.score(X,y))"
   ],
   "id": "64558a0b7619930d"
  },
  {
   "metadata": {},
   "cell_type": "markdown",
   "source": "#### Calculate RMSE by hand",
   "id": "e5fb2553d933b733"
  },
  {
   "metadata": {},
   "cell_type": "code",
   "outputs": [],
   "execution_count": null,
   "source": [
    "  from sklearn.metrics import mean_squared_error\n",
    "\n",
    "rmse = math.sqrt(np.mean(np.square(errors)))\n",
    "print(\"Calculated RMSE: \", rmse)\n",
    "print(\"RMSE using mean_square_error(): \", mean_squared_error(y, y_hat))"
   ],
   "id": "21f83707e865c713"
  }
 ],
 "metadata": {
  "kernelspec": {
   "display_name": "Python 3",
   "language": "python",
   "name": "python3"
  },
  "language_info": {
   "codemirror_mode": {
    "name": "ipython",
    "version": 2
   },
   "file_extension": ".py",
   "mimetype": "text/x-python",
   "name": "python",
   "nbconvert_exporter": "python",
   "pygments_lexer": "ipython2",
   "version": "2.7.6"
  }
 },
 "nbformat": 4,
 "nbformat_minor": 5
}
