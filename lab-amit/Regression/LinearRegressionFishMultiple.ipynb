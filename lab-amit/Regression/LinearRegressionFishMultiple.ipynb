{
 "cells": [
  {
   "metadata": {},
   "cell_type": "markdown",
   "source": "#### Build a model where the weight depends on all the other variables including species",
   "id": "ca5c084354ec43c4"
  },
  {
   "metadata": {
    "ExecuteTime": {
     "end_time": "2025-10-23T21:59:17.706707Z",
     "start_time": "2025-10-23T21:59:17.692705Z"
    }
   },
   "cell_type": "code",
   "source": [
    "from sklearn.linear_model import LinearRegression\n",
    "\n",
    "import pandas as pd\n",
    "from sklearn.metrics import root_mean_squared_error\n",
    "from sklearn.model_selection import train_test_split\n",
    "\n",
    "\n",
    "df = pd.read_csv(\"../../data/fish.csv\")\n",
    "\n",
    "X = df.drop('Weight', axis='columns')\n",
    "y = df.Weight\n",
    "\n",
    "X.head()\n"
   ],
   "id": "19782f6e139ccdaf",
   "outputs": [
    {
     "data": {
      "text/plain": [
       "  Species  Length1  Length2  Length3   Height   Width\n",
       "0   Bream     23.2     25.4     30.0  11.5200  4.0200\n",
       "1   Bream     24.0     26.3     31.2  12.4800  4.3056\n",
       "2   Bream     23.9     26.5     31.1  12.3778  4.6961\n",
       "3   Bream     26.3     29.0     33.5  12.7300  4.4555\n",
       "4   Bream     26.5     29.0     34.0  12.4440  5.1340"
      ],
      "text/html": [
       "<div>\n",
       "<style scoped>\n",
       "    .dataframe tbody tr th:only-of-type {\n",
       "        vertical-align: middle;\n",
       "    }\n",
       "\n",
       "    .dataframe tbody tr th {\n",
       "        vertical-align: top;\n",
       "    }\n",
       "\n",
       "    .dataframe thead th {\n",
       "        text-align: right;\n",
       "    }\n",
       "</style>\n",
       "<table border=\"1\" class=\"dataframe\">\n",
       "  <thead>\n",
       "    <tr style=\"text-align: right;\">\n",
       "      <th></th>\n",
       "      <th>Species</th>\n",
       "      <th>Length1</th>\n",
       "      <th>Length2</th>\n",
       "      <th>Length3</th>\n",
       "      <th>Height</th>\n",
       "      <th>Width</th>\n",
       "    </tr>\n",
       "  </thead>\n",
       "  <tbody>\n",
       "    <tr>\n",
       "      <th>0</th>\n",
       "      <td>Bream</td>\n",
       "      <td>23.2</td>\n",
       "      <td>25.4</td>\n",
       "      <td>30.0</td>\n",
       "      <td>11.5200</td>\n",
       "      <td>4.0200</td>\n",
       "    </tr>\n",
       "    <tr>\n",
       "      <th>1</th>\n",
       "      <td>Bream</td>\n",
       "      <td>24.0</td>\n",
       "      <td>26.3</td>\n",
       "      <td>31.2</td>\n",
       "      <td>12.4800</td>\n",
       "      <td>4.3056</td>\n",
       "    </tr>\n",
       "    <tr>\n",
       "      <th>2</th>\n",
       "      <td>Bream</td>\n",
       "      <td>23.9</td>\n",
       "      <td>26.5</td>\n",
       "      <td>31.1</td>\n",
       "      <td>12.3778</td>\n",
       "      <td>4.6961</td>\n",
       "    </tr>\n",
       "    <tr>\n",
       "      <th>3</th>\n",
       "      <td>Bream</td>\n",
       "      <td>26.3</td>\n",
       "      <td>29.0</td>\n",
       "      <td>33.5</td>\n",
       "      <td>12.7300</td>\n",
       "      <td>4.4555</td>\n",
       "    </tr>\n",
       "    <tr>\n",
       "      <th>4</th>\n",
       "      <td>Bream</td>\n",
       "      <td>26.5</td>\n",
       "      <td>29.0</td>\n",
       "      <td>34.0</td>\n",
       "      <td>12.4440</td>\n",
       "      <td>5.1340</td>\n",
       "    </tr>\n",
       "  </tbody>\n",
       "</table>\n",
       "</div>"
      ]
     },
     "execution_count": 15,
     "metadata": {},
     "output_type": "execute_result"
    }
   ],
   "execution_count": 15
  },
  {
   "metadata": {},
   "cell_type": "markdown",
   "source": "#### Onehot encode the data using X = pd.get_dummies(X).",
   "id": "87305033f077cd32"
  },
  {
   "metadata": {},
   "cell_type": "code",
   "source": [
    "x = pd.get_dummies(X)\n",
    "x.tail()"
   ],
   "id": "fc568c61243ceb6d",
   "outputs": [],
   "execution_count": null
  },
  {
   "metadata": {},
   "cell_type": "code",
   "source": "X_train, X_test, y_train, y_test = train_test_split(x, y, random_state=1)",
   "id": "89adf912455f48e8",
   "outputs": [],
   "execution_count": null
  },
  {
   "metadata": {
    "ExecuteTime": {
     "end_time": "2025-10-23T21:57:07.330097Z",
     "start_time": "2025-10-23T21:57:07.323512Z"
    }
   },
   "cell_type": "code",
   "source": [
    "model = LinearRegression()\n",
    "model.fit(X_train, y_train)\n",
    "print(\"Slope: \", model.coef_)\n",
    "print(\"Intercept: \", model.intercept_)\n",
    "print(\"R squared: \", model.score(x, y))"
   ],
   "id": "f583d45b136ec452",
   "outputs": [
    {
     "name": "stdout",
     "output_type": "stream",
     "text": [
      "Slope:  [ -77.54961986   79.82351542   32.07795278   -7.39940573    6.27375101\n",
      "  -52.45900441  101.23781327   34.41437005 -374.32402364   -7.14175994\n",
      "  307.1979751    -8.92537042]\n",
      "Intercept:  -791.7343125834225\n",
      "R squared:  0.9344082354012225\n"
     ]
    }
   ],
   "execution_count": 11
  },
  {
   "metadata": {},
   "cell_type": "markdown",
   "source": "### RMSE",
   "id": "d371ef9c3c169d5b"
  },
  {
   "metadata": {
    "ExecuteTime": {
     "end_time": "2025-10-23T21:59:20.936446Z",
     "start_time": "2025-10-23T21:59:20.931452Z"
    }
   },
   "cell_type": "code",
   "source": [
    "y_hat = model.predict(X_test)\n",
    "print(\"RMSE: \", root_mean_squared_error(y_test, y_hat))"
   ],
   "id": "90a849a492bc65b4",
   "outputs": [
    {
     "name": "stdout",
     "output_type": "stream",
     "text": [
      "RMSE:  103.43601101631997\n"
     ]
    }
   ],
   "execution_count": 16
  }
 ],
 "metadata": {
  "kernelspec": {
   "display_name": "Python 3",
   "language": "python",
   "name": "python3"
  },
  "language_info": {
   "codemirror_mode": {
    "name": "ipython",
    "version": 2
   },
   "file_extension": ".py",
   "mimetype": "text/x-python",
   "name": "python",
   "nbconvert_exporter": "python",
   "pygments_lexer": "ipython2",
   "version": "2.7.6"
  }
 },
 "nbformat": 4,
 "nbformat_minor": 5
}
