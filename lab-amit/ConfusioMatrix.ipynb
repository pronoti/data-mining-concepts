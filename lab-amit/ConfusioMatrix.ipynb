{
 "cells": [
  {
   "metadata": {},
   "cell_type": "markdown",
   "source": "### Import Confusion Matrix",
   "id": "bfa2dac7f086a272"
  },
  {
   "metadata": {
    "collapsed": true,
    "ExecuteTime": {
     "end_time": "2025-10-18T23:54:59.737387Z",
     "start_time": "2025-10-18T23:54:43.854011Z"
    }
   },
   "cell_type": "code",
   "source": "from sklearn.metrics import confusion_matrix",
   "id": "3a77c5bfcda41c9a",
   "outputs": [],
   "execution_count": 1
  },
  {
   "metadata": {},
   "cell_type": "markdown",
   "source": [
    "### For the values actual = [0, 1, 0, 1] and predicted = [1, 1, 1, 0]\n",
    "- Find the confusion matrix.\n",
    "- Print it out\n",
    "- Find the values of TN, FP, FN, TP"
   ],
   "id": "bd5e0b7f5e4a0d92"
  },
  {
   "metadata": {
    "ExecuteTime": {
     "end_time": "2025-10-19T00:05:01.062517Z",
     "start_time": "2025-10-19T00:05:01.053966Z"
    }
   },
   "cell_type": "code",
   "source": [
    "actual = [0, 1, 0, 1]\n",
    "predicted = [1, 1, 1, 0]\n",
    "cm = confusion_matrix(actual, predicted)\n",
    "print(type(cm))\n",
    "\n",
    "print(\" \", \"0\", \"1\", \"P\")\n",
    "print(\"0\", \"TN\", \"FP\")\n",
    "print(\"1\", \"FN\", \"TP\")\n",
    "print(\"A\")\n",
    "print()\n",
    "\n",
    "print(cm)"
   ],
   "id": "68eba60c9d80619",
   "outputs": [
    {
     "name": "stdout",
     "output_type": "stream",
     "text": [
      "<class 'numpy.ndarray'>\n",
      "  0 1 P\n",
      "0 TN FP\n",
      "1 FN TP\n",
      "A\n",
      "\n",
      "[[0 2]\n",
      " [1 1]]\n"
     ]
    }
   ],
   "execution_count": 10
  },
  {
   "metadata": {},
   "cell_type": "markdown",
   "source": [
    "### For actual = ['B', 'M', 'B', 'M'] and predicted = ['M', 'M', 'M', 'B']\n",
    "- Find the confusion matrix.\n",
    "- Print it out\n",
    "- Find the values of TN, FP, FN, TP"
   ],
   "id": "3fc39ae686a19518"
  },
  {
   "metadata": {
    "ExecuteTime": {
     "end_time": "2025-10-19T00:04:45.876415Z",
     "start_time": "2025-10-19T00:04:45.867658Z"
    }
   },
   "cell_type": "code",
   "source": [
    "actual = ['B', 'M', 'B', 'M']\n",
    "predicted = ['M', 'M', 'M', 'B']\n",
    "cm = confusion_matrix(actual, predicted)\n",
    "\n",
    "print(\" \",\"0\", \"1\", \"Predicted\")\n",
    "print(\"0\",\"TN\", \"FP\")\n",
    "print(\"1\",\"FN\", \"TP\")\n",
    "print(\"Actual\")\n",
    "print()\n",
    "\n",
    "print(cm)"
   ],
   "id": "1921e2971ed74cc2",
   "outputs": [
    {
     "name": "stdout",
     "output_type": "stream",
     "text": [
      "  0 1 Predicted\n",
      "0 TN FP\n",
      "1 FN TP\n",
      "Actual\n",
      "\n",
      "[[0 2]\n",
      " [1 1]]\n"
     ]
    }
   ],
   "execution_count": 9
  },
  {
   "metadata": {},
   "cell_type": "markdown",
   "source": "### For actual = ['W', 'M', 'W', 'M'] and predicted = ['M', 'M', 'M', 'W'] but make W the negative and M the positive",
   "id": "820c0c016e5b1eac"
  },
  {
   "metadata": {
    "ExecuteTime": {
     "end_time": "2025-10-19T00:04:22.305966Z",
     "start_time": "2025-10-19T00:04:22.295558Z"
    }
   },
   "cell_type": "code",
   "source": [
    "actual = ['W', 'M', 'W', 'M']\n",
    "predicted = ['M', 'M', 'M', 'W']\n",
    "cm = confusion_matrix(actual, predicted, labels=[\"W\", \"M\"])\n",
    "\n",
    "print(\" \",\"0\", \"1\", \"Predicted\")\n",
    "print(\"0\",\"TN\", \"FP\")\n",
    "print(\"1\",\"FN\", \"TP\")\n",
    "print(\"Actual\")\n",
    "print()\n",
    "\n",
    "print(\"CM\", cm)"
   ],
   "id": "a314267ef5b16aae",
   "outputs": [
    {
     "name": "stdout",
     "output_type": "stream",
     "text": [
      "  0 1 Predicted\n",
      "0 TN FP\n",
      "1 FN TP\n",
      "Actual\n",
      "\n",
      "CM [[0 2]\n",
      " [1 1]]\n"
     ]
    }
   ],
   "execution_count": 8
  },
  {
   "metadata": {},
   "cell_type": "markdown",
   "source": "###  For actual = [\"cat\", \"ant\", \"cat\", \"cat\", \"ant\", \"bird\"] and predicted = [\"ant\", \"ant\", \"cat\", \"cat\", \"ant\", \"cat\"].",
   "id": "b9e9786273431bdc"
  },
  {
   "metadata": {
    "ExecuteTime": {
     "end_time": "2025-10-19T00:07:49.789404Z",
     "start_time": "2025-10-19T00:07:49.780681Z"
    }
   },
   "cell_type": "code",
   "source": [
    "actual = [\"cat\", \"ant\", \"cat\", \"cat\", \"ant\", \"bird\"]\n",
    "predicted = [\"ant\", \"ant\", \"cat\", \"cat\", \"ant\", \"cat\"]\n",
    "cm = confusion_matrix(actual, predicted, labels=[\"ant\", \"cat\", \"bird\"])\n",
    "\n",
    "print(\"CM: \", cm)"
   ],
   "id": "763daea1a11efc90",
   "outputs": [
    {
     "name": "stdout",
     "output_type": "stream",
     "text": [
      "CM [[2 0 0]\n",
      " [1 2 0]\n",
      " [0 1 0]]\n"
     ]
    }
   ],
   "execution_count": 12
  },
  {
   "metadata": {},
   "cell_type": "markdown",
   "source": [
    "### The following is actual and predicted values for a cyber-security model.\n",
    "- actual = ['attack', 'normal', 'normal', 'attack', 'normal', 'normal', 'attack', 'normal', 'attack']\n",
    "- predicted = ['attack', 'normal', 'attack', 'attack', 'normal', 'normal','normal', 'normal', 'normal']\n",
    "#### Print out the confusion matrix and the values of tn, fp, fn, tp."
   ],
   "id": "b75a53a3f4ae2a49"
  },
  {
   "metadata": {
    "ExecuteTime": {
     "end_time": "2025-10-19T00:16:38.237062Z",
     "start_time": "2025-10-19T00:16:38.217834Z"
    }
   },
   "cell_type": "code",
   "source": [
    "actual = ['attack', 'normal', 'normal', 'attack', 'normal', 'normal', 'attack', 'normal', 'attack']\n",
    "predicted = ['attack', 'normal', 'attack', 'attack', 'normal', 'normal','normal', 'normal', 'normal']\n",
    "\n",
    "cm = confusion_matrix(actual, predicted)\n",
    "r = cm.ravel()\n",
    "print(type(r))\n",
    "tn, fp, fn, tp = cm.ravel()\n",
    "print(f\"TN: {tn}, FP: {fp}, FN: {fn}, TP: {tp}\")"
   ],
   "id": "9586ec99a42f138a",
   "outputs": [
    {
     "name": "stdout",
     "output_type": "stream",
     "text": [
      "<class 'numpy.ndarray'>\n",
      "TN: 2, FP: 2, FN: 1, TP: 4\n",
      "<class 'numpy.ndarray'>\n",
      "TN: 4, FP: 1, FN: 2, TP: 2\n"
     ]
    }
   ],
   "execution_count": 17
  },
  {
   "metadata": {},
   "cell_type": "markdown",
   "source": "#### With labels",
   "id": "d6263d04a80f61d1"
  },
  {
   "metadata": {
    "ExecuteTime": {
     "end_time": "2025-10-19T00:17:15.038265Z",
     "start_time": "2025-10-19T00:17:15.030201Z"
    }
   },
   "cell_type": "code",
   "source": [
    "cm = confusion_matrix(actual, predicted, labels = [\"normal\", \"attack\"])\n",
    "r = cm.ravel()\n",
    "r = cm.ravel()\n",
    "print(type(r))\n",
    "tn, fp, fn, tp = cm.ravel()\n",
    "print(f\"TN: {tn}, FP: {fp}, FN: {fn}, TP: {tp}\")"
   ],
   "id": "74af4912ad6e1b8b",
   "outputs": [
    {
     "name": "stdout",
     "output_type": "stream",
     "text": [
      "<class 'numpy.ndarray'>\n",
      "TN: 4, FP: 1, FN: 2, TP: 2\n"
     ]
    }
   ],
   "execution_count": 18
  }
 ],
 "metadata": {
  "kernelspec": {
   "display_name": "Python 3",
   "language": "python",
   "name": "python3"
  },
  "language_info": {
   "codemirror_mode": {
    "name": "ipython",
    "version": 2
   },
   "file_extension": ".py",
   "mimetype": "text/x-python",
   "name": "python",
   "nbconvert_exporter": "python",
   "pygments_lexer": "ipython2",
   "version": "2.7.6"
  }
 },
 "nbformat": 4,
 "nbformat_minor": 5
}
