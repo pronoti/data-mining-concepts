{
 "cells": [
  {
   "metadata": {},
   "cell_type": "markdown",
   "source": "### Import Pandas",
   "id": "961d31cd017ef770"
  },
  {
   "metadata": {
    "collapsed": true
   },
   "cell_type": "code",
   "source": "import pandas as pd",
   "id": "fef654921b5ed619",
   "outputs": [],
   "execution_count": null
  },
  {
   "metadata": {},
   "cell_type": "markdown",
   "source": "### Read the iris dataset from a csv file stored in a folder called data, into a dataframe.",
   "id": "d314985d2f04fec9"
  },
  {
   "metadata": {},
   "cell_type": "code",
   "source": "df = pd.read_csv(\"data/iris.csv\")",
   "id": "aa85f53300b7a2ff",
   "outputs": [],
   "execution_count": null
  },
  {
   "metadata": {},
   "cell_type": "markdown",
   "source": "### Get the type, head, columns, shape, and index of the dataframe",
   "id": "7fb82f76aba4e9cf"
  },
  {
   "metadata": {},
   "cell_type": "code",
   "source": [
    "print(type(df))\n",
    "print(df.head())\n",
    "print(df.columns)\n",
    "print(df.shape)\n",
    "print(df.index)"
   ],
   "id": "34684dd72893d473",
   "outputs": [],
   "execution_count": null
  },
  {
   "metadata": {},
   "cell_type": "markdown",
   "source": "### Get the value of a row of the df",
   "id": "301c143d1e823cb5"
  },
  {
   "metadata": {},
   "cell_type": "code",
   "source": "print(df.iloc[1])",
   "id": "fa76801bf28a7acb",
   "outputs": [],
   "execution_count": null
  },
  {
   "metadata": {},
   "cell_type": "markdown",
   "source": "### Get the value of an entry in the df",
   "id": "876225567d24a35b"
  },
  {
   "metadata": {},
   "cell_type": "code",
   "source": "print(df.iloc[1,1])",
   "id": "27df47edfd8c8a05",
   "outputs": [],
   "execution_count": null
  },
  {
   "metadata": {},
   "cell_type": "markdown",
   "source": "### Take a copy of the dataframe (df2) and set the value of an entry in df2. Print the value of the entry in df and df2",
   "id": "a90e294c3419f7c2"
  },
  {
   "metadata": {},
   "cell_type": "code",
   "source": [
    "df2 = df.copy()\n",
    "\n",
    "df2.iloc[1,1] = 100\n",
    "print(df2.iloc[1,1])\n",
    "print(df.iloc[1,1])"
   ],
   "id": "a22de6ca3546e79e",
   "outputs": [],
   "execution_count": null
  },
  {
   "metadata": {},
   "cell_type": "code",
   "source": "print(df.dtypes)",
   "id": "de17e0fbec494e0a",
   "outputs": [],
   "execution_count": null
  },
  {
   "metadata": {},
   "cell_type": "markdown",
   "source": [
    "### Dataframes - Selecting Columns\n",
    "#### Define dataframes X and y where X contains the feature values in the dataframe and y contains the target values."
   ],
   "id": "d152a599a78b113c"
  },
  {
   "metadata": {},
   "cell_type": "code",
   "source": [
    "X = df[[\"sepal_length\",\"sepal_width\",\"petal_length\",\"petal_width\"]]\n",
    "y = df[\"species\"]\n",
    "print(type(X))\n",
    "print(type(y))\n",
    "print(X.shape)\n",
    "print(y.shape)\n",
    "# print(X.head())\n",
    "# print(y.head())"
   ],
   "id": "4b3936f058c4b70f",
   "outputs": [],
   "execution_count": null
  },
  {
   "metadata": {},
   "cell_type": "markdown",
   "source": "### Convert X and y to ndarrays.",
   "id": "e586136aa6100a26"
  },
  {
   "metadata": {},
   "cell_type": "code",
   "source": [
    "X = df[[\"sepal_length\",\"sepal_width\",\"petal_length\",\"petal_width\"]].to_numpy()\n",
    "y = df[\"species\"].to_numpy()\n",
    "print(type(X))\n",
    "print(type(y))"
   ],
   "id": "495edec564925c6d",
   "outputs": [],
   "execution_count": null
  },
  {
   "metadata": {},
   "cell_type": "markdown",
   "source": "### Define dataframes X and y where X contains the feature values in the dataframe and y contains the target values. Use df.drop() to define X and and df.species to define y.",
   "id": "338c6d19ae6a01d2"
  },
  {
   "metadata": {},
   "cell_type": "code",
   "source": [
    "print(df.head())\n",
    "X = df.drop(\"species\", axis=\"columns\")\n",
    "y = df.species\n",
    "X.head()"
   ],
   "id": "fbd5a985cc0ae0c",
   "outputs": [],
   "execution_count": null
  }
 ],
 "metadata": {
  "kernelspec": {
   "display_name": "Python 3",
   "language": "python",
   "name": "python3"
  },
  "language_info": {
   "codemirror_mode": {
    "name": "ipython",
    "version": 2
   },
   "file_extension": ".py",
   "mimetype": "text/x-python",
   "name": "python",
   "nbconvert_exporter": "python",
   "pygments_lexer": "ipython2",
   "version": "2.7.6"
  }
 },
 "nbformat": 4,
 "nbformat_minor": 5
}
