{
 "cells": [
  {
   "metadata": {},
   "cell_type": "markdown",
   "source": "### Import pandas",
   "id": "e9b8f700dfb94610"
  },
  {
   "metadata": {},
   "cell_type": "code",
   "outputs": [],
   "execution_count": null,
   "source": "import pandas as pd",
   "id": "4f87812e3be95d87"
  },
  {
   "metadata": {},
   "cell_type": "markdown",
   "source": "### Load the mushroom dataset from a csv file.",
   "id": "240f52d9e32e93cb"
  },
  {
   "metadata": {},
   "cell_type": "code",
   "outputs": [],
   "execution_count": null,
   "source": "mushrooms = pd.read_csv(\"../data/mushrooms.csv\")",
   "id": "76aa7fd822991793"
  }
 ],
 "metadata": {
  "kernelspec": {
   "display_name": "Python 3",
   "language": "python",
   "name": "python3"
  },
  "language_info": {
   "codemirror_mode": {
    "name": "ipython",
    "version": 2
   },
   "file_extension": ".py",
   "mimetype": "text/x-python",
   "name": "python",
   "nbconvert_exporter": "python",
   "pygments_lexer": "ipython2",
   "version": "2.7.6"
  }
 },
 "nbformat": 4,
 "nbformat_minor": 5
}
