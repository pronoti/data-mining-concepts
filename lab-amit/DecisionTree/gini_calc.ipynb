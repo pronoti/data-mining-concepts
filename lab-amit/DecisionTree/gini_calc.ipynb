{
 "cells": [
  {
   "metadata": {},
   "cell_type": "markdown",
   "source": "### GINI Calculations",
   "id": "5a238f8d967c407d"
  },
  {
   "metadata": {},
   "cell_type": "markdown",
   "source": "##### Calculate the GINI value for a node with a 9/7 split (9 instances of class1, 7 instances of class2)",
   "id": "689bbe68766bef4"
  },
  {
   "metadata": {
    "collapsed": true,
    "ExecuteTime": {
     "end_time": "2025-10-27T15:22:22.454701Z",
     "start_time": "2025-10-27T15:22:22.451254Z"
    }
   },
   "cell_type": "code",
   "source": [
    "# Single Node 9/7\n",
    "print('GINI for 9/7 split: ', 1-(9/16)**2-(7/16)**2)"
   ],
   "id": "792158048e914c15",
   "outputs": [
    {
     "name": "stdout",
     "output_type": "stream",
     "text": [
      "GINI for 9/7 split:  0.4921875\n"
     ]
    }
   ],
   "execution_count": 9
  },
  {
   "metadata": {},
   "cell_type": "markdown",
   "source": "##### Calculate the GINI values of the nodes with a 1 / 4 split, 2/1 split and 1/1 split",
   "id": "609f9702e071a9a9"
  },
  {
   "metadata": {
    "ExecuteTime": {
     "end_time": "2025-10-27T15:26:01.665680Z",
     "start_time": "2025-10-27T15:26:01.660955Z"
    }
   },
   "cell_type": "code",
   "source": [
    "print('GINI values of the nodes with a 1 / 4 split, 2/1 split and 1/1 split')\n",
    "\n",
    "p1 = 1 - (1/5)**2 - (4/5)**2\n",
    "print(\"p1 (GINI for 1/4 split): \", p1)\n",
    "\n",
    "p2 = 1 - (2/3)**2 - (1/3)**2\n",
    "print(\"p2 (GINI for 2/1 split): \", p2)\n",
    "\n",
    "p3 = 1 - (1/2)**2 - (1/2)**2\n",
    "print(\"p3 (GINI for 1/1 split): \", p3)"
   ],
   "id": "5c154de1eb8bb5e3",
   "outputs": [
    {
     "name": "stdout",
     "output_type": "stream",
     "text": [
      "GINI values of the nodes with a 1 / 4 split, 2/1 split and 1/1 split\n",
      "p1 (GINI for 1/4 split):  0.31999999999999984\n",
      "p2 (GINI for 2/1 split):  0.4444444444444445\n",
      "p3 (GINI for 1/1 split):  0.5\n"
     ]
    }
   ],
   "execution_count": 15
  },
  {
   "metadata": {},
   "cell_type": "markdown",
   "source": "##### Calculate the overall GINI value of a split into the above three nodes (weighted sum of the individual GINI values)",
   "id": "a0b846edc72ecdb"
  },
  {
   "metadata": {
    "ExecuteTime": {
     "end_time": "2025-10-27T15:23:48.288954Z",
     "start_time": "2025-10-27T15:23:48.285116Z"
    }
   },
   "cell_type": "code",
   "source": [
    "#\n",
    "gini = (5/10)*p1 + (3/10)*p2 + (2/10)*p3\n",
    "print(\"Wieghted sum of GINI values for the split: \", gini)"
   ],
   "id": "ed27ee381fb6ae37",
   "outputs": [
    {
     "name": "stdout",
     "output_type": "stream",
     "text": [
      "Wieghted sum of GINI values for the split:  0.3933333333333332\n"
     ]
    }
   ],
   "execution_count": 13
  }
 ],
 "metadata": {
  "kernelspec": {
   "display_name": "Python 3",
   "language": "python",
   "name": "python3"
  },
  "language_info": {
   "codemirror_mode": {
    "name": "ipython",
    "version": 2
   },
   "file_extension": ".py",
   "mimetype": "text/x-python",
   "name": "python",
   "nbconvert_exporter": "python",
   "pygments_lexer": "ipython2",
   "version": "2.7.6"
  }
 },
 "nbformat": 4,
 "nbformat_minor": 5
}
