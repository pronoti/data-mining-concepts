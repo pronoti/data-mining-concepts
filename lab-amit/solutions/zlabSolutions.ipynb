{
 "cells": [
  {
   "cell_type": "markdown",
   "id": "54254ec8",
   "metadata": {},
   "source": [
    "# Arrays"
   ]
  },
  {
   "cell_type": "code",
   "execution_count": null,
   "id": "788a9e68",
   "metadata": {},
   "outputs": [],
   "source": [
    "# see https://docs.scipy.org/doc/numpy-1.15.0/user/index.html\n",
    "import numpy as np\n",
    "\n",
    "x = np.array([12, 3, 6, 14])\n",
    "print (\"x: \", x)\n",
    "print(type(x))\n",
    "print(\"x.ndim: \", x.ndim)\n",
    "print(\"x.shape: \", x.shape)\n",
    "print(x[0])"
   ]
  },
  {
   "cell_type": "code",
   "execution_count": null,
   "id": "2fd265aa",
   "metadata": {},
   "outputs": [],
   "source": [
    "x = np.array([  [1, 2, 3, 4],\n",
    "                [5, 6, 7, 8],\n",
    "                [9, 10, 11, 12]\n",
    "            ])\n",
    "print(\"x: \", x)\n",
    "print(type(x))\n",
    "print(\"x.ndim: \", x.ndim)\n",
    "print(\"x.shape: \", x.shape)\n",
    "print(x[0,1])"
   ]
  },
  {
   "cell_type": "code",
   "execution_count": null,
   "id": "9d0467c0",
   "metadata": {},
   "outputs": [],
   "source": [
    "x = np.array([\n",
    "                [[1, 2, 3, 4], [5, 6, 7, 8], [9, 10, 11, 12]],\n",
    "                [[21, 22, 23, 24], [25, 26, 27, 28], [29, 30, 31, 32]]\n",
    "            ])\n",
    "\n",
    "print(\"x.shape: \", x.shape)\n",
    "print(x[0,1,2])"
   ]
  },
  {
   "cell_type": "markdown",
   "id": "1cad10a5",
   "metadata": {},
   "source": [
    "## Array Slice"
   ]
  },
  {
   "cell_type": "code",
   "execution_count": null,
   "id": "230dd434",
   "metadata": {},
   "outputs": [],
   "source": [
    "import numpy as np\n",
    "\n",
    "arr = np.array([0, 1, 2, 3, 4, 5, 6, 7, 8, 9, 10])\n",
    "\n",
    "print(arr[3:8])\n",
    "print(arr[3:8:2])\n",
    "print(arr[3:-1])\n",
    "print(arr[3:])\n",
    "print(arr[:5])"
   ]
  },
  {
   "cell_type": "code",
   "execution_count": null,
   "id": "2f49df44",
   "metadata": {},
   "outputs": [],
   "source": [
    "new = arr[0:3]\n",
    "print(len(new))\n",
    "print(new)"
   ]
  },
  {
   "cell_type": "code",
   "execution_count": null,
   "id": "83cf0672",
   "metadata": {},
   "outputs": [],
   "source": [
    "new[0] = 100\n",
    "print(new[0])\n",
    "print(arr[0])\n",
    "print(arr)"
   ]
  },
  {
   "cell_type": "markdown",
   "id": "b33e7c11",
   "metadata": {},
   "source": [
    "## Array Reshape"
   ]
  },
  {
   "cell_type": "code",
   "execution_count": null,
   "id": "ea96dfda",
   "metadata": {},
   "outputs": [],
   "source": [
    "import numpy as np\n",
    "\n",
    "arr = np.array([0, 1, 2, 3, 4, 5, 6, 7, 8, 9, 10, 11])\n",
    "\n",
    "# b = arr.reshape(3, 4)\n",
    "b = arr.reshape(3, 4).copy()\n",
    "print(b)\n",
    "\n",
    "b[0,0] = 100\n",
    "print(b)\n",
    "print(arr)"
   ]
  },
  {
   "cell_type": "code",
   "execution_count": null,
   "id": "3abfaf08",
   "metadata": {},
   "outputs": [],
   "source": [
    "b = arr.reshape(2,2,3)\n",
    "print(b)"
   ]
  },
  {
   "cell_type": "code",
   "execution_count": null,
   "id": "c1fbb4f2",
   "metadata": {},
   "outputs": [],
   "source": [
    "b = arr.reshape(2,2,-1)\n",
    "print(b)"
   ]
  },
  {
   "cell_type": "code",
   "execution_count": null,
   "id": "e3a8519e",
   "metadata": {},
   "outputs": [],
   "source": [
    "# error\n",
    "b = arr.reshape(2, 5)\n",
    "print(b)"
   ]
  },
  {
   "cell_type": "markdown",
   "id": "c17b9c7e",
   "metadata": {},
   "source": [
    "# Dataframes"
   ]
  },
  {
   "cell_type": "code",
   "id": "d9243fe1",
   "metadata": {
    "ExecuteTime": {
     "end_time": "2025-10-18T23:17:40.931978Z",
     "start_time": "2025-10-18T23:17:39.925311Z"
    }
   },
   "source": [
    "# https://pandas.pydata.org/pandas-docs/stable/reference/api/pandas.DataFrame.html\n",
    "\n",
    "import pandas as pd\n",
    "\n",
    "df = pd.read_csv('../../data/iris.csv')\n",
    "print(type(df))"
   ],
   "outputs": [
    {
     "name": "stdout",
     "output_type": "stream",
     "text": [
      "<class 'pandas.core.frame.DataFrame'>\n"
     ]
    }
   ],
   "execution_count": 2
  },
  {
   "cell_type": "code",
   "execution_count": null,
   "id": "ab2c9f52",
   "metadata": {},
   "outputs": [],
   "source": [
    "print(df.head())"
   ]
  },
  {
   "cell_type": "code",
   "execution_count": null,
   "id": "265eb05c",
   "metadata": {},
   "outputs": [],
   "source": [
    "df.head()"
   ]
  },
  {
   "cell_type": "code",
   "execution_count": null,
   "id": "e4249b19",
   "metadata": {},
   "outputs": [],
   "source": [
    "print(df.columns)"
   ]
  },
  {
   "cell_type": "code",
   "execution_count": null,
   "id": "734be157",
   "metadata": {},
   "outputs": [],
   "source": [
    "print(df.shape)"
   ]
  },
  {
   "cell_type": "code",
   "execution_count": null,
   "id": "9a86293a",
   "metadata": {},
   "outputs": [],
   "source": [
    "print(df.index)"
   ]
  },
  {
   "cell_type": "code",
   "execution_count": null,
   "id": "a44abbf8",
   "metadata": {},
   "outputs": [],
   "source": [
    "print(df.iloc[1])"
   ]
  },
  {
   "cell_type": "code",
   "execution_count": null,
   "id": "607d2625",
   "metadata": {},
   "outputs": [],
   "source": [
    "print(df.iloc[1,1])"
   ]
  },
  {
   "cell_type": "code",
   "id": "38bed9fa",
   "metadata": {
    "ExecuteTime": {
     "end_time": "2025-10-18T23:17:52.143730Z",
     "start_time": "2025-10-18T23:17:52.135609Z"
    }
   },
   "source": [
    "df2 = df.copy()\n",
    "# df2 = df\n",
    "\n",
    "df2.iloc[1,1] = 100\n",
    "print(df2.iloc[1,1])\n",
    "print(df.iloc[1,1])"
   ],
   "outputs": [
    {
     "name": "stdout",
     "output_type": "stream",
     "text": [
      "100.0\n",
      "3.0\n"
     ]
    }
   ],
   "execution_count": 3
  },
  {
   "cell_type": "code",
   "execution_count": null,
   "id": "fd3ec815",
   "metadata": {},
   "outputs": [],
   "source": [
    "print(df.dtypes)"
   ]
  },
  {
   "cell_type": "markdown",
   "id": "d9d71e21",
   "metadata": {},
   "source": [
    "## Dataframes - Selecting Columns"
   ]
  },
  {
   "cell_type": "code",
   "execution_count": null,
   "id": "274733e8",
   "metadata": {},
   "outputs": [],
   "source": [
    "X = df[[\"sepal_length\",\"sepal_width\",\"petal_length\",\"petal_width\"]]\n",
    "y = df[\"species\"]\n",
    "print(type(X))\n",
    "print(type(y))\n",
    "print(X.shape)\n",
    "print(y.shape)\n",
    "# print(X.head())\n",
    "# print(y.head())"
   ]
  },
  {
   "cell_type": "code",
   "execution_count": null,
   "id": "e6d36211",
   "metadata": {},
   "outputs": [],
   "source": [
    "X = df[[\"sepal_length\",\"sepal_width\",\"petal_length\",\"petal_width\"]].to_numpy()\n",
    "y = df[\"species\"].to_numpy()\n",
    "print(type(X))\n",
    "print(type(y))\n",
    "\n",
    "# print(y)"
   ]
  },
  {
   "cell_type": "code",
   "execution_count": null,
   "id": "999d13fa",
   "metadata": {},
   "outputs": [],
   "source": [
    "X = df.drop(\"species\", axis=\"columns\")\n",
    "y = df.species\n",
    "X.head()"
   ]
  },
  {
   "cell_type": "markdown",
   "id": "38fd1d0a",
   "metadata": {},
   "source": [
    "## Confusion Matrix"
   ]
  },
  {
   "cell_type": "code",
   "execution_count": null,
   "id": "276c6727",
   "metadata": {},
   "outputs": [],
   "source": [
    "from sklearn.metrics import confusion_matrix\n",
    "actual = [0, 1, 0, 1]\n",
    "predicted = [1, 1, 1, 0]\n",
    "\n",
    "cm = confusion_matrix(actual, predicted)\n",
    "print(type(cm))\n",
    "\n",
    "print(\" \", \"0 \", \"1 \", \"P \")\n",
    "print(0, \"TN\", \"FP\")\n",
    "print(1, \"FN\", \"TP\")\n",
    "print(\"A\")\n",
    "print()\n",
    "\n",
    "print(\"confusion matrix\")\n",
    "print(cm)\n",
    "print()"
   ]
  },
  {
   "cell_type": "code",
   "execution_count": null,
   "id": "66451105",
   "metadata": {},
   "outputs": [],
   "source": [
    "# ravel - returns a flattened array in row major style\n",
    "# print(type(cm.ravel()))\n",
    "tn, fp, fn, tp = cm.ravel()\n",
    "print(\"TN\", tn, \"FP\", fp, \"FN\", fn, \"TP\", tp)"
   ]
  },
  {
   "cell_type": "code",
   "execution_count": null,
   "id": "ca1ced88",
   "metadata": {},
   "outputs": [],
   "source": [
    "from sklearn.metrics import confusion_matrix\n",
    "actual = ['B', 'M', 'B', 'M']\n",
    "predicted = ['M', 'M', 'M', 'B']\n",
    "\n",
    "# in aphabetical order, B is 0, M is 1\n",
    "\n",
    "cm = confusion_matrix(actual, predicted)\n",
    "print(type(cm))\n",
    "\n",
    "print(\" \", \"B \", \"M \", \"P \")\n",
    "print(\"B\", \"TN\", \"FP\")\n",
    "print(\"M\", \"FN\", \"TP\")\n",
    "print(\"A\")\n",
    "print()\n",
    "\n",
    "print(\"CM\", cm)\n",
    "print()\n",
    "\n",
    "tn, fp, fn, tp = cm.ravel()\n",
    "print(\"TN\", tn, \"FP\", fp, \"FN\", fn, \"TP\", tp)"
   ]
  },
  {
   "cell_type": "markdown",
   "id": "fda9eeab",
   "metadata": {},
   "source": [
    "### Specifying Labels"
   ]
  },
  {
   "cell_type": "code",
   "execution_count": null,
   "id": "a45c0e38",
   "metadata": {},
   "outputs": [],
   "source": [
    "from sklearn.metrics import confusion_matrix\n",
    "\n",
    "actual = ['W', 'M', 'W', 'M']\n",
    "predicted = ['M', 'M', 'M', 'W']\n",
    "\n",
    "# labels forces W to 0 (negative) and M to 1 (positive)\n",
    "cm = confusion_matrix(actual, predicted, labels=[\"W\", \"M\"])\n",
    "print(type(cm))\n",
    "\n",
    "print(\" \", \"W \", \"M \", \"P \")\n",
    "print(\"W \", \"TN\", \"FP\")\n",
    "print(\"M \", \"FN\", \"TP\")\n",
    "print(\"A\")\n",
    "print()\n",
    "\n",
    "print(\"CM\", cm)\n",
    "print()\n",
    "\n",
    "tn, fp, fn, tp = cm.ravel()\n",
    "print(\"TN\", tn, \"FP\", fp, \"FN\", fn, \"TP\", tp)"
   ]
  },
  {
   "cell_type": "markdown",
   "id": "dfc36ac9",
   "metadata": {},
   "source": [
    "### Multiple Classes"
   ]
  },
  {
   "cell_type": "code",
   "execution_count": null,
   "id": "d7941713",
   "metadata": {},
   "outputs": [],
   "source": [
    "from sklearn.metrics import confusion_matrix\n",
    "\n",
    "actual = [\"cat\", \"ant\", \"cat\", \"cat\", \"ant\", \"bird\"]\n",
    "predicted = [\"ant\", \"ant\", \"cat\", \"cat\", \"ant\", \"cat\"]\n",
    "cm = confusion_matrix(actual, predicted)\n",
    "print(cm)\n",
    "print()\n",
    "\n",
    "cm = confusion_matrix(actual, predicted, labels=[\"ant\", \"bird\", \"cat\"])\n",
    "print(cm)\n",
    "\n",
    "# cm = confusion_matrix(actual, predicted, labels=[\"ant\", \"cat\", \"bird\"])\n",
    "# print(cm)"
   ]
  },
  {
   "cell_type": "markdown",
   "id": "dbc9648c",
   "metadata": {},
   "source": [
    "### Attack Data"
   ]
  },
  {
   "cell_type": "code",
   "execution_count": null,
   "id": "c91bbee0",
   "metadata": {},
   "outputs": [],
   "source": [
    "from sklearn.metrics import confusion_matrix\n",
    "\n",
    "actual = ['attack', 'normal', 'normal',  'attack', 'normal', 'normal', 'attack', 'normal', 'attack']\n",
    "predicted = ['attack', 'normal', 'attack', 'attack', 'normal', 'normal', 'normal',  'normal', 'normal']\n",
    "\n",
    "cm = confusion_matrix(actual, predicted, labels=[\"normal\", \"attack\"])\n",
    "print(cm)\n",
    "\n",
    "tn, fp, fn, tp = cm.ravel()\n",
    "print(\"TN\", tn, \"FP\", fp, \"FN\", fn, \"TP\", tp)\n"
   ]
  },
  {
   "cell_type": "code",
   "execution_count": null,
   "id": "efcf1257",
   "metadata": {},
   "outputs": [],
   "source": []
  },
  {
   "cell_type": "markdown",
   "id": "f16baa63",
   "metadata": {},
   "source": [
    "## Builtin Datasets"
   ]
  },
  {
   "cell_type": "code",
   "execution_count": null,
   "id": "5521f77e",
   "metadata": {},
   "outputs": [],
   "source": [
    "from sklearn.datasets import load_iris\n",
    "from sklearn.linear_model import LinearRegression\n",
    "from sklearn.preprocessing import OneHotEncoder\n",
    "import numpy as np\n",
    "\n",
    "iris = load_iris()\n",
    "print(type(iris))\n",
    "print(iris.feature_names)\n",
    "print(iris.target_names)"
   ]
  },
  {
   "cell_type": "code",
   "execution_count": null,
   "id": "6fb2bcc9",
   "metadata": {},
   "outputs": [],
   "source": [
    "print(iris)"
   ]
  },
  {
   "cell_type": "code",
   "execution_count": null,
   "id": "a6163de6",
   "metadata": {},
   "outputs": [],
   "source": [
    "# normally\n",
    "X = iris.data\n",
    "print(\"X.shape\", X.shape)\n",
    "y = iris.target\n",
    "print(\"y.shape\", y.shape)\n",
    "\n",
    "print(y)"
   ]
  },
  {
   "cell_type": "code",
   "execution_count": null,
   "id": "1ccae62e",
   "metadata": {},
   "outputs": [],
   "source": [
    "print(iris.DESCR)"
   ]
  },
  {
   "cell_type": "markdown",
   "id": "aa71681a",
   "metadata": {},
   "source": [
    "# Onehot Encoding"
   ]
  },
  {
   "cell_type": "code",
   "execution_count": null,
   "id": "e64f2271",
   "metadata": {},
   "outputs": [],
   "source": [
    "from sklearn.datasets import load_iris\n",
    "from sklearn.linear_model import LinearRegression\n",
    "from sklearn.preprocessing import OneHotEncoder\n",
    "import numpy as np\n",
    "import pandas as pd\n",
    "\n",
    "df = pd.read_csv('data/iris.csv')"
   ]
  },
  {
   "cell_type": "code",
   "execution_count": null,
   "id": "6ff9d783",
   "metadata": {},
   "outputs": [],
   "source": [
    "# normally\n",
    "# X = df.drop(\"species\", axis='columns')\n",
    "# y = df.species\n",
    "\n",
    "X = pd.get_dummies(df)\n",
    "X.head()"
   ]
  },
  {
   "cell_type": "markdown",
   "id": "721485f6",
   "metadata": {},
   "source": [
    "### Mushroom Dataset"
   ]
  },
  {
   "cell_type": "code",
   "execution_count": null,
   "id": "d9a8fbcc",
   "metadata": {},
   "outputs": [],
   "source": [
    "df = pd.read_csv('data/mushrooms.csv')\n",
    "df.head()"
   ]
  },
  {
   "cell_type": "code",
   "execution_count": null,
   "id": "5a218516",
   "metadata": {},
   "outputs": [],
   "source": [
    "X = df.drop(\"type\", axis='columns')\n",
    "y = df.type\n",
    "\n",
    "X = pd.get_dummies(X)\n",
    "X.head()"
   ]
  },
  {
   "cell_type": "code",
   "execution_count": null,
   "id": "1ff3f19b",
   "metadata": {},
   "outputs": [],
   "source": []
  }
 ],
 "metadata": {
  "kernelspec": {
   "display_name": "Python 3 (ipykernel)",
   "language": "python",
   "name": "python3"
  },
  "language_info": {
   "codemirror_mode": {
    "name": "ipython",
    "version": 3
   },
   "file_extension": ".py",
   "mimetype": "text/x-python",
   "name": "python",
   "nbconvert_exporter": "python",
   "pygments_lexer": "ipython3",
   "version": "3.8.13"
  }
 },
 "nbformat": 4,
 "nbformat_minor": 5
}
